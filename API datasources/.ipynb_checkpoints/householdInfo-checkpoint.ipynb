{
 "cells": [
  {
   "cell_type": "code",
   "execution_count": 1,
   "metadata": {},
   "outputs": [
    {
     "ename": "TypeError",
     "evalue": "list indices must be integers or slices, not str",
     "output_type": "error",
     "traceback": [
      "\u001b[0;31m---------------------------------------------------------------------------\u001b[0m",
      "\u001b[0;31mTypeError\u001b[0m                                 Traceback (most recent call last)",
      "\u001b[0;32m<ipython-input-1-96218b341d9d>\u001b[0m in \u001b[0;36m<module>\u001b[0;34m\u001b[0m\n\u001b[1;32m     16\u001b[0m             },\n\u001b[1;32m     17\u001b[0m         \u001b[0;34m\"properties\"\u001b[0m \u001b[0;34m:\u001b[0m \u001b[0md\u001b[0m\u001b[0;34m,\u001b[0m\u001b[0;34m\u001b[0m\u001b[0;34m\u001b[0m\u001b[0m\n\u001b[0;32m---> 18\u001b[0;31m      } for d in data]}\n\u001b[0m",
      "\u001b[0;32m<ipython-input-1-96218b341d9d>\u001b[0m in \u001b[0;36m<listcomp>\u001b[0;34m(.0)\u001b[0m\n\u001b[1;32m     16\u001b[0m             },\n\u001b[1;32m     17\u001b[0m         \u001b[0;34m\"properties\"\u001b[0m \u001b[0;34m:\u001b[0m \u001b[0md\u001b[0m\u001b[0;34m,\u001b[0m\u001b[0;34m\u001b[0m\u001b[0;34m\u001b[0m\u001b[0m\n\u001b[0;32m---> 18\u001b[0;31m      } for d in data]}\n\u001b[0m",
      "\u001b[0;31mTypeError\u001b[0m: list indices must be integers or slices, not str"
     ]
    }
   ],
   "source": [
    "import csv\n",
    "import json\n",
    " \n",
    "\n",
    "with open('merged_df.csv', newline='') as csvfile:\n",
    "    data = csv.reader(csvfile, delimiter=',')\n",
    "    \n",
    "    geojson = {\n",
    "    \"type\": \"FeatureCollection\",\n",
    "    \"features\": [\n",
    "    {\n",
    "        \"type\": \"Feature\",\n",
    "        \"geometry\" : {\n",
    "            \"type\": \"Point\",\n",
    "            \"coordinates\": [d[\"longitude\"], d[\"latitude\"]],\n",
    "            },\n",
    "        \"properties\" : d,\n",
    "     } for d in data]}"
   ]
  },
  {
   "cell_type": "code",
   "execution_count": null,
   "metadata": {},
   "outputs": [],
   "source": [
    "import csv, json\n",
    "li = []\n",
    "with open('merged_df.csv', newline='') as csvfile:\n",
    "    reader = csv.reader(csvfile, delimiter=',')\n",
    "    for country,game,latitude, longitude in reader:\n",
    "        li.append({\n",
    "            \"Country\": country,\n",
    "           \"Game\": game,\n",
    "           \"latitude\": latitude,\n",
    "           \"longitude\": longitude,\n",
    "           \"geo\": {\n",
    "                \"__type\": \"GeoPoint\",\n",
    "                \"latitude\": latitude,\n",
    "                \"longitude\": longitude,\n",
    "            }\n",
    "        })\n",
    "with open(\"game.json\", \"w\") as f:\n",
    "    json.dump(li, f)"
   ]
  },
  {
   "cell_type": "code",
   "execution_count": null,
   "metadata": {},
   "outputs": [],
   "source": [
    "from sys import argv\n",
    "from os.path import exists\n",
    "import simplejson as json\n",
    "in_file=\"game.json\"\n",
    "#script, in_file, out_file = argv\n",
    "data = json.load(open(in_file))\n",
    "geojson = {\n",
    "    \"type\": \"FeatureCollection\",\n",
    "    \"features\": [\n",
    "    {\n",
    "        \"type\": \"Feature\",\n",
    "        \"geometry\" : {\n",
    "            \"type\": \"Point\",\n",
    "            \"coordinates\": [d[\"longitude\"], d[\"latitude\"]],\n",
    "            },\n",
    "        \"properties\" : d,\n",
    "     } for d in data]\n",
    "}\n",
    "output = open(out_file, 'w')\n",
    "Gamegeojson=json.dump(geojson, output)\n",
    "print(geojson)"
   ]
  }
 ],
 "metadata": {
  "kernelspec": {
   "display_name": "Python [conda env:PythonData] *",
   "language": "python",
   "name": "conda-env-PythonData-py"
  },
  "language_info": {
   "codemirror_mode": {
    "name": "ipython",
    "version": 3
   },
   "file_extension": ".py",
   "mimetype": "text/x-python",
   "name": "python",
   "nbconvert_exporter": "python",
   "pygments_lexer": "ipython3",
   "version": "3.6.10"
  }
 },
 "nbformat": 4,
 "nbformat_minor": 4
}
