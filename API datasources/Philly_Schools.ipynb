{
 "cells": [
  {
   "cell_type": "code",
   "execution_count": 8,
   "metadata": {},
   "outputs": [],
   "source": [
    "import pandas as pd\n",
    "import sqlalchemy\n",
    "from sqlalchemy import create_engine, Column, Integer, String\n",
    "from sqlalchemy.ext.declarative import declarative_base\n",
    "Base = declarative_base()"
   ]
  },
  {
   "cell_type": "markdown",
   "metadata": {},
   "source": [
    "# Schools Data"
   ]
  },
  {
   "cell_type": "code",
   "execution_count": 24,
   "metadata": {},
   "outputs": [
    {
     "data": {
      "text/plain": [
       "array(['Neighborhood', 'Citywide', 'Special Admit', 'Alternative',\n",
       "       'Virtual', 'Citywide With Criteria'], dtype=object)"
      ]
     },
     "execution_count": 24,
     "metadata": {},
     "output_type": "execute_result"
    }
   ],
   "source": [
    "schools_data = pd.read_csv(\"schools_clean.csv\")\n",
    "schools_data[\"Admission Type\"].unique()"
   ]
  },
  {
   "cell_type": "code",
   "execution_count": 10,
   "metadata": {},
   "outputs": [],
   "source": [
    "schools_data.rename(columns = {\"Publication Name\" : \"school_name\", \n",
    "                               \"Abbreviated Name\": \"abbrv_name\",\n",
    "                               \"School Level\": \"school_level\",\n",
    "                               \"Admission Type\": \"type\",\n",
    "                               \"Current Grade Span Served\": \"grade_level\",\n",
    "                               \"GPS Location\":\"geolocation\",\n",
    "                               \"Street Address\": \"address\",\n",
    "                               \"Website\": \"website\",\n",
    "                               \"SPR_Score\": \"spr_score\"\n",
    "                              }, inplace=True)"
   ]
  },
  {
   "cell_type": "code",
   "execution_count": 11,
   "metadata": {},
   "outputs": [
    {
     "data": {
      "text/html": [
       "<div>\n",
       "<style scoped>\n",
       "    .dataframe tbody tr th:only-of-type {\n",
       "        vertical-align: middle;\n",
       "    }\n",
       "\n",
       "    .dataframe tbody tr th {\n",
       "        vertical-align: top;\n",
       "    }\n",
       "\n",
       "    .dataframe thead th {\n",
       "        text-align: right;\n",
       "    }\n",
       "</style>\n",
       "<table border=\"1\" class=\"dataframe\">\n",
       "  <thead>\n",
       "    <tr style=\"text-align: right;\">\n",
       "      <th></th>\n",
       "      <th>school_name</th>\n",
       "      <th>abbrv_name</th>\n",
       "      <th>school_level</th>\n",
       "      <th>type</th>\n",
       "      <th>grade_level</th>\n",
       "      <th>geolocation</th>\n",
       "      <th>address</th>\n",
       "      <th>website</th>\n",
       "      <th>spr_score</th>\n",
       "    </tr>\n",
       "    <tr>\n",
       "      <th>id</th>\n",
       "      <th></th>\n",
       "      <th></th>\n",
       "      <th></th>\n",
       "      <th></th>\n",
       "      <th></th>\n",
       "      <th></th>\n",
       "      <th></th>\n",
       "      <th></th>\n",
       "      <th></th>\n",
       "    </tr>\n",
       "  </thead>\n",
       "  <tbody>\n",
       "    <tr>\n",
       "      <th>0</th>\n",
       "      <td>John Bartram High School</td>\n",
       "      <td>Bartram</td>\n",
       "      <td>High</td>\n",
       "      <td>Neighborhood</td>\n",
       "      <td>'09-12</td>\n",
       "      <td>39.92149737, -75.23405562</td>\n",
       "      <td>2401 S 67TH ST</td>\n",
       "      <td>http://philasd.org/bartram</td>\n",
       "      <td>19</td>\n",
       "    </tr>\n",
       "    <tr>\n",
       "      <th>1</th>\n",
       "      <td>West Philadelphia High School</td>\n",
       "      <td>West Philadelphia</td>\n",
       "      <td>High</td>\n",
       "      <td>Neighborhood</td>\n",
       "      <td>'09-12</td>\n",
       "      <td>39.958110, -75.219654</td>\n",
       "      <td>4901 CHESTNUT ST</td>\n",
       "      <td>http://philasd.org/wphs</td>\n",
       "      <td>23</td>\n",
       "    </tr>\n",
       "    <tr>\n",
       "      <th>2</th>\n",
       "      <td>High School of the Future</td>\n",
       "      <td>HS of Future</td>\n",
       "      <td>High</td>\n",
       "      <td>Citywide</td>\n",
       "      <td>'09-12</td>\n",
       "      <td>39.97465766, -75.2047566</td>\n",
       "      <td>4021 PARKSIDE AVE</td>\n",
       "      <td>http://philasd.org/sof</td>\n",
       "      <td>24</td>\n",
       "    </tr>\n",
       "    <tr>\n",
       "      <th>3</th>\n",
       "      <td>Paul Robeson High School for Human Services</td>\n",
       "      <td>Robeson</td>\n",
       "      <td>High</td>\n",
       "      <td>Citywide</td>\n",
       "      <td>'09-12</td>\n",
       "      <td>39.95679553, -75.20476311</td>\n",
       "      <td>4125 LUDLOW ST</td>\n",
       "      <td>http://philasd.org/robeson</td>\n",
       "      <td>49</td>\n",
       "    </tr>\n",
       "    <tr>\n",
       "      <th>4</th>\n",
       "      <td>William L. Sayre High School</td>\n",
       "      <td>Sayre</td>\n",
       "      <td>High</td>\n",
       "      <td>Neighborhood</td>\n",
       "      <td>'09-12</td>\n",
       "      <td>39.95759354, -75.23859405</td>\n",
       "      <td>5800 WALNUT ST</td>\n",
       "      <td>http://philasd.org/sayre</td>\n",
       "      <td>12</td>\n",
       "    </tr>\n",
       "  </tbody>\n",
       "</table>\n",
       "</div>"
      ],
      "text/plain": [
       "                                    school_name         abbrv_name  \\\n",
       "id                                                                   \n",
       "0                      John Bartram High School            Bartram   \n",
       "1                 West Philadelphia High School  West Philadelphia   \n",
       "2                     High School of the Future       HS of Future   \n",
       "3   Paul Robeson High School for Human Services            Robeson   \n",
       "4                  William L. Sayre High School              Sayre   \n",
       "\n",
       "   school_level          type grade_level                geolocation  \\\n",
       "id                                                                     \n",
       "0          High  Neighborhood      '09-12  39.92149737, -75.23405562   \n",
       "1          High  Neighborhood      '09-12      39.958110, -75.219654   \n",
       "2          High      Citywide      '09-12   39.97465766, -75.2047566   \n",
       "3          High      Citywide      '09-12  39.95679553, -75.20476311   \n",
       "4          High  Neighborhood      '09-12  39.95759354, -75.23859405   \n",
       "\n",
       "              address                     website spr_score  \n",
       "id                                                           \n",
       "0      2401 S 67TH ST  http://philasd.org/bartram        19  \n",
       "1    4901 CHESTNUT ST     http://philasd.org/wphs        23  \n",
       "2   4021 PARKSIDE AVE      http://philasd.org/sof        24  \n",
       "3      4125 LUDLOW ST  http://philasd.org/robeson        49  \n",
       "4      5800 WALNUT ST    http://philasd.org/sayre        12  "
      ]
     },
     "execution_count": 11,
     "metadata": {},
     "output_type": "execute_result"
    }
   ],
   "source": [
    "schools_data.index.name = 'id'\n",
    "schools_data.head()"
   ]
  },
  {
   "cell_type": "markdown",
   "metadata": {},
   "source": [
    "## Transfering data to SQLite Database"
   ]
  },
  {
   "cell_type": "code",
   "execution_count": 12,
   "metadata": {},
   "outputs": [],
   "source": [
    "class Schools(Base):\n",
    "    __tablename__ = 'schools'\n",
    "    id = Column(Integer, primary_key=True)\n",
    "    school_name = Column(String)\n",
    "    abbrv_name = Column(String)\n",
    "    school_level = Column(String)\n",
    "    type = Column(String)\n",
    "    grade_level = Column(String)\n",
    "    geolocation = Column(String)\n",
    "    address= Column(String)\n",
    "    website = Column(String)\n",
    "    spr_score = Column(Integer)"
   ]
  },
  {
   "cell_type": "code",
   "execution_count": 13,
   "metadata": {},
   "outputs": [
    {
     "data": {
      "text/plain": [
       "immutabledict({'schools': Table('schools', MetaData(bind=None), Column('id', Integer(), table=<schools>, primary_key=True, nullable=False), Column('school_name', String(), table=<schools>), Column('abbrv_name', String(), table=<schools>), Column('school_level', String(), table=<schools>), Column('type', String(), table=<schools>), Column('grade_level', String(), table=<schools>), Column('geolocation', String(), table=<schools>), Column('address', String(), table=<schools>), Column('website', String(), table=<schools>), Column('spr_score', Integer(), table=<schools>), schema=None)})"
      ]
     },
     "execution_count": 13,
     "metadata": {},
     "output_type": "execute_result"
    }
   ],
   "source": [
    "Base.metadata.tables"
   ]
  },
  {
   "cell_type": "code",
   "execution_count": 14,
   "metadata": {
    "scrolled": false
   },
   "outputs": [
    {
     "name": "stdout",
     "output_type": "stream",
     "text": [
      "2021-05-08 09:23:05,648 INFO sqlalchemy.engine.base.Engine SELECT CAST('test plain returns' AS VARCHAR(60)) AS anon_1\n",
      "2021-05-08 09:23:05,649 INFO sqlalchemy.engine.base.Engine ()\n",
      "2021-05-08 09:23:05,650 INFO sqlalchemy.engine.base.Engine SELECT CAST('test unicode returns' AS VARCHAR(60)) AS anon_1\n",
      "2021-05-08 09:23:05,651 INFO sqlalchemy.engine.base.Engine ()\n",
      "2021-05-08 09:23:05,652 INFO sqlalchemy.engine.base.Engine PRAGMA main.table_info(\"schools\")\n",
      "2021-05-08 09:23:05,653 INFO sqlalchemy.engine.base.Engine ()\n"
     ]
    }
   ],
   "source": [
    "engine = create_engine('sqlite:///philly.sqlite', echo=True)\n",
    "Base.metadata.create_all(engine)"
   ]
  },
  {
   "cell_type": "code",
   "execution_count": 15,
   "metadata": {},
   "outputs": [],
   "source": [
    "from sqlalchemy.orm import Session\n",
    "session = Session(bind=engine)"
   ]
  },
  {
   "cell_type": "code",
   "execution_count": 16,
   "metadata": {},
   "outputs": [
    {
     "name": "stdout",
     "output_type": "stream",
     "text": [
      "2021-05-08 09:23:07,026 INFO sqlalchemy.engine.base.Engine BEGIN (implicit)\n",
      "2021-05-08 09:23:07,026 INFO sqlalchemy.engine.base.Engine SELECT * FROM schools;\n",
      "2021-05-08 09:23:07,027 INFO sqlalchemy.engine.base.Engine ()\n"
     ]
    },
    {
     "data": {
      "text/plain": [
       "[(0, 'John Bartram High School', 'Bartram', 'High', 'Neighborhood', \"'09-12\", '39.92149737, -75.23405562', '2401 S 67TH ST', 'http://philasd.org/bartram'),\n",
       " (1, 'West Philadelphia High School', 'West Philadelphia', 'High', 'Neighborhood', \"'09-12\", '39.958110, -75.219654', '4901 CHESTNUT ST', 'http://philasd.org/wphs'),\n",
       " (2, 'High School of the Future', 'HS of Future', 'High', 'Citywide', \"'09-12\", '39.97465766, -75.2047566', '4021 PARKSIDE AVE', 'http://philasd.org/sof'),\n",
       " (3, 'Paul Robeson High School for Human Services', 'Robeson', 'High', 'Citywide', \"'09-12\", '39.95679553, -75.20476311', '4125 LUDLOW ST', 'http://philasd.org/robeson'),\n",
       " (4, 'William L. Sayre High School', 'Sayre', 'High', 'Neighborhood', \"'09-12\", '39.95759354, -75.23859405', '5800 WALNUT ST', 'http://philasd.org/sayre'),\n",
       " (5, 'William T. Tilden School', 'Tilden', 'Middle', 'Neighborhood', \"'05-08\", '39.92093619, -75.23227632', '6601 ELMWOOD AVE', 'http://philasd.org/tilden'),\n",
       " (6, 'Motivation High School', 'Motivation', 'High', 'Special Admit', \"'09-12\", '39.94453199, -75.24184422', '5900 BALTIMORE AVE', 'http://philasd.org/motivationhs'),\n",
       " (7, 'John Barry School', 'Barry', 'Elementary-Middle', 'Neighborhood', \"'00-08\", '39.96437494, -75.23860376', '5900 RACE ST', 'http://philasd.org/barry'),\n",
       " (8, 'William C. Bryant School', 'Bryant', 'Elementary-Middle', 'Neighborhood', \"'00-08\", '39.952687, -75.243691', '6001 CEDAR AVE', 'http://philasd.org/bryant'),\n",
       " (9, 'Joseph W. Catharine School', 'Catharine', 'Elementary', 'Neighborhood', \"'00-05\", '39.927435, -75.239911', '6600 CHESTER AVE', 'http://philasd.org/catharine'),\n",
       " (10, 'Benjamin B. Comegys School', 'Comegys', 'Elementary-Middle', 'Neighborhood', \"'00-08\", '39.940520, -75.216289', '5100 GREENWAY AVE', 'http://philasd.org/comegys'),\n",
       " (11, 'Sadie Alexander School', 'Penn Alexander', 'Elementary-Middle', 'Neighborhood', \"'00-08\", '39.953099, -75.208187', '4209 SPRUCE ST', 'http://philasd.org/pennalexander'),\n",
       " (12, 'Andrew Hamilton School', 'Hamilton', 'Elementary-Middle', 'Neighborhood', \"'00-08\", '39.955438, -75.235543', '5640 SPRUCE ST', 'http://philasd.org/hamilton'),\n",
       " (13, 'Avery D. Harrington School', 'Harrington', 'Elementary-Middle', 'Neighborhood', \"'00-08\", '39.94736517, -75.23059508', '5300 BALTIMORE AVE', 'http://philasd.org/harrington'),\n",
       " (14, 'Henry C. Lea School', 'Lea', 'Elementary-Middle', 'Neighborhood', \"'00-08\", '39.954515, -75.216347', '4700 LOCUST ST', 'http://philasd.org/lea'),\n",
       " (15, 'William C. Longstreth School', 'Longstreth', 'Elementary-Middle', 'Neighborhood', \"'00-08\", '39.94090823, -75.23237316', '5700 WILLOWS AVE', 'http://philasd.org/longstreth'),\n",
       " (16, 'Morton McMichael School', 'McMichael', 'Elementary-Middle', 'Neighborhood', \"'00-08\", '39.96619727, -75.19411487', '3543 FAIRMOUNT AVE', 'http://philasd.org/mcmichael'),\n",
       " (17, 'S. Weir Mitchell School', 'Mitchell', 'Elementary-Middle', 'Neighborhood', \"'00-08\", '39.93681427, -75.223291', '5500 KINGSESSING AVE', 'http://philasd.org/mitchell'),\n",
       " (18, 'Thomas G. Morton School', 'Morton', 'Elementary', 'Neighborhood', \"'00-05\", '39.92346826, -75.22690015', '2501 S 63RD ST', 'http://philasd.org/morton'),\n",
       " (19, 'Samuel Powel School', 'Powel', 'Elementary', 'Neighborhood', \"'00-04\", '39.9599324, -75.19370686', '301 N 36TH ST', 'http://philasd.org/powel'),\n",
       " (20, 'John M. Patterson School', 'Patterson', 'Elementary', 'Neighborhood', \"'00-04\", '39.916095, -75.236762', '7000 BUIST AVE', 'http://philasd.org/patterson'),\n",
       " (21, 'James Rhoads School', 'Rhoads', 'Elementary-Middle', 'Neighborhood', \"'00-08\", '39.967339, -75.220063', '4901 PARRISH ST', 'http://philasd.org/rhoads'),\n",
       " (22, 'Martha Washington School', 'Washington, Martha', 'Elementary-Middle', 'Neighborhood', \"'00-08\", '39.966206, -75.211179', '766 N 44TH ST', 'http://philasd.org/mwashington'),\n",
       " (23, 'Penrose School', 'Penrose', 'Elementary-Middle', 'Neighborhood', \"'00-08\", '39.90692358, -75.24865833', '2515 S 78TH ST', 'http://philasd.org/penrose'),\n",
       " (24, 'Add B. Anderson School', 'Anderson', 'Elementary-Middle', 'Neighborhood', \"'00-08\", '39.946726, -75.245717', '1034 S 60TH ST', 'http://philasd.org/anderson'),\n",
       " (25, 'Alain Locke School', 'Locke', 'Elementary-Middle', 'Neighborhood', \"'00-08\", '39.96262376, -75.21245097', '4550 HAVERFORD AVE', 'http://philasd.org/locke'),\n",
       " (26, 'Rudolph Blankenburg School', 'Blankenburg', 'Elementary-Middle', 'Neighborhood', \"'00-08\", '39.97296312, -75.21388868', '4600 W GIRARD AVE', 'http://philasd.org/blankenburg'),\n",
       " (27, 'Middle Years Alternative School', 'MYA', 'Middle', 'Citywide', \"'05-08\", '39.96425379, -75.21546704', '4725 FAIRMOUNT AVE', 'http://philasd.org/mya'),\n",
       " (28, 'South Philadelphia High School', 'South Philadelphia', 'High', 'Neighborhood', \"'09-12\", '39.9238987, -75.1691065', '2101 S BROAD ST', 'http://philasd.org/sphs'),\n",
       " (29, 'Benjamin Franklin High School', 'Franklin HS', 'High', 'Neighborhood', \"'09-12\", '39.963530, -75.161640', '550 N BROAD ST', 'http://philasd.org/bfhs'),\n",
       " (30, 'High School for Creative and Performing Arts', 'CAPA', 'High', 'Special Admit', \"'09-12\", '39.93941992, -75.16548375', '901 S BROAD ST', 'http://philasd.org/capa'),\n",
       " (31, 'Science Leadership Academy Middle School', 'SLAMS', 'Middle', 'Neighborhood', \"'05-08\", '39.96299243, -75.19362923', '3600 MARKET ST', 'http://philasd.org/slams'),\n",
       " (32, 'Julia R. Masterman School', 'Masterman', 'Middle-High', 'Special Admit', \"'05-12\", '39.96320031, -75.16620758', '1699 SPRING GARDEN ST', 'http://philasd.org/masterman'),\n",
       " (33, 'Furness High School', 'Furness', 'High', 'Neighborhood', \"'09-12\", '39.923762, -75.150585', '1900 S 3RD ST', 'http://philasd.org/furness'),\n",
       " (34, 'D. Newlin Fell School', 'Fell', 'Elementary-Middle', 'Neighborhood', \"'00-08\", '39.91558638, -75.16300858', '900 W OREGON AVE', 'http://philasd.org/fell'),\n",
       " (35, 'Bache-Martin School', 'Bache-Martin', 'Elementary-Middle', 'Neighborhood', \"'00-08\", '39.96967782, -75.17384692', '2201 BROWN ST', 'http://philasd.org/bachemartin'),\n",
       " (36, 'F. Amedee Bregy School', 'Bregy', 'Elementary-Middle', 'Neighborhood', \"'00-08\", '39.914699, -75.176674', '1700 BIGLER ST', 'http://philasd.org/bregy'),\n",
       " (37, 'George W. Childs School', 'Childs', 'Elementary-Middle', 'Neighborhood', \"'00-08\", '39.934637, -75.170493', '1599 WHARTON ST', 'http://philasd.org/childs'),\n",
       " (38, 'Franklin Learning Center', 'FLC', 'High', 'Special Admit', \"'09-12\", '39.965049, -75.162753', '616 N 15TH ST', 'http://philasd.org/flc'),\n",
       " (39, 'Camelot Academy', 'Camelot', 'Middle-High', 'Alternative', \"'06-12\", '39.978134, -75.177658', '1435 N 26TH ST', 'http://cameloteducation.org/our-schools/transitional-schools/camelot-academy-of-philadelphia'),\n",
       " (40, 'Stephen Girard School', 'Girard', 'Elementary', 'Neighborhood', \"'00-04\", '39.925059, -75.176611', '1800 SNYDER AVE', 'http://philasd.org/girard'),\n",
       " (41, 'General George A. McCall School', 'McCall', 'Elementary-Middle', 'Neighborhood', \"'00-08\", '39.944635, -75.153180', '325 S 7TH ST', 'http://philasd.org/mccall'),\n",
       " (42, 'Delaplaine McDaniel School', 'McDaniel', 'Elementary-Middle', 'Neighborhood', \"'00-08\", '39.929592, -75.181793', '1801 S 22ND ST', 'http://philasd.org/mcdaniel'),\n",
       " (43, 'William M. Meredith School', 'Meredith', 'Elementary-Middle', 'Neighborhood', \"'00-08\", '39.93974936, -75.15113339', '725 S 5TH ST', 'http://philasd.org/meredith'),\n",
       " (44, 'Robert Morris School', 'Morris', 'Elementary-Middle', 'Neighborhood', \"'00-08\", '39.975439, -75.178660', '2600 W THOMPSON ST', 'http://philasd.org/morris'),\n",
       " (45, 'Girard Academic Music Program', 'GAMP', 'Middle-High', 'Special Admit', \"'05-12\", '39.92210463, -75.18256439', '2136 W RITNER ST', 'http://philasd.org/gamp'),\n",
       " (46, 'Edwin M. Stanton School', 'Stanton', 'Elementary-Middle', 'Neighborhood', \"'00-08\", '39.940503, -75.171017', '901 S. 17TH ST.', 'http://philasd.org/emstanton'),\n",
       " (47, 'Albert M. Greenfield School', 'Greenfield', 'Elementary-Middle', 'Neighborhood', \"'00-08\", '39.95227234, -75.17739206', '2200 CHESTNUT ST', 'http://philasd.org/greenfield'),\n",
       " (48, 'Chester A. Arthur School', 'Arthur', 'Elementary-Middle', 'Neighborhood', \"'00-08\", '39.94190083, -75.17569882', '2000 CATHARINE ST', 'http://philasd.org/arthur'),\n",
       " (49, 'Laura W. Waring School', 'Waring', 'Elementary-Middle', 'Neighborhood', \"'00-08\", '39.96491939, -75.1677006', '1801 GREEN ST', 'http://philasd.org/waring'),\n",
       " (50, 'Andrew Jackson School', 'Jackson', 'Elementary-Middle', 'Neighborhood', \"'00-08\", '39.934623, -75.163481', '1213 S 12TH ST', 'http://philasd.org/jackson'),\n",
       " (51, 'Abram S. Jenks School', 'Jenks, A.S', 'Elementary', 'Neighborhood', \"'00-05\", '39.918773, -75.168367', '2501 S 13TH ST', 'http://philasd.org/asjenks'),\n",
       " (52, 'Phila. Juv. Justice Services Ctr. School', 'PJJSCS', 'Middle-High', 'Alternative', \"'06-12\", '39.96136565, -75.21572624', '91 N 48TH ST', 'http://philasd.org/pjjsc'),\n",
       " (53, 'Francis S. Key School', 'Key', 'Elementary', 'Neighborhood', \"'00-06\", '39.9213857, -75.1601961', '2230 S 8TH ST', 'http://philasd.org/key'),\n",
       " (54, 'Eliza B. Kirkbride School', 'Kirkbride', 'Elementary-Middle', 'Neighborhood', \"'00-08\", '39.930020, -75.156466', '1501 S 7TH ST', 'http://philasd.org/kirkbride'),\n",
       " (55, 'George W. Nebinger School', 'Nebinger', 'Elementary-Middle', 'Neighborhood', \"'00-08\", '39.936694, -75.153830', '601 CARPENTER ST', 'http://philasd.org/nebinger'),\n",
       " (56, 'Academy at Palumbo', 'Palumbo', 'High', 'Special Admit', \"'09-12\", '39.94019787, -75.16194915', '1100 CATHARINE ST', 'http://philasd.org/palumbo'),\n",
       " (57, 'George W. Sharswood School', 'Sharswood', 'Elementary-Middle', 'Neighborhood', \"'00-08\", '39.91935714, -75.15055053', '2300 S 2ND ST', 'http://philasd.org/sharswood'),\n",
       " (58, 'Southwark School', 'Southwark', 'Elementary-Middle', 'Neighborhood', \"'00-08\", '39.92637775, -75.16053168', '1835 S 9TH ST', 'http://philasd.org/southwark'),\n",
       " (59, 'Science Leadership Academy', 'SLA', 'High', 'Special Admit', \"'09-12\", '39.963701, -75.162516', '1482 GREEN ST', 'http://philasd.org/sla'),\n",
       " (60, 'Constitution High School', 'Constitution', 'High', 'Citywide', \"'09-12\", '39.950252, -75.152336', '18 S 7TH ST', 'http://philasd.org/constitutionhs'),\n",
       " (61, 'The Science Leadership Academy at Beeber', 'SLA at Beeber', 'Middle-High', 'Special Admit', \"'05-07, 09-12\", '39.98610221, -75.24192008', '5925 MALVERN AVE', 'http://philasd.org/slabeeber'),\n",
       " (62, 'John H. Taggart School', 'Taggart', 'Elementary-Middle', 'Neighborhood', \"'00-08\", '39.91721223, -75.15452237', '400 W PORTER ST', 'http://philasd.org/taggart'),\n",
       " (63, 'Vare-Washington School', 'Vare-Washington', 'Elementary-Middle', 'Neighborhood', \"'00-08\", '39.93427949, -75.15252649', '1198 S 5TH ST', 'http://philasd.org/vare'),\n",
       " (64, 'Excel Middle Years Academy', 'Excel Middle', 'Middle', 'Alternative', \"'06-08\", '39.99074371, -75.18402464', '4300 WESTMINSTER AVE', 'https://cameloteducation.org/our-schools/transitional-schools/excel-middle-years-academy/'),\n",
       " (65, 'Crossroads at Hunting Park', 'Crossroads @HP', 'Elementary', 'Alternative', \"'03-06\", '40.01425525, -75.12599679', '4224 N FRONT ST', 'http://philasd.org/crossroads-huntingpark'),\n",
       " (66, 'Ben Franklin High School EOP', 'Franklin EOP', 'High', 'Alternative', \"'09-12\", '39.962909, -75.159210', '540 N 13TH ST', 'https://www.philasd.org/alternative'),\n",
       " (67, 'Liguori Academy-Fortis', 'Liguori Fortis', 'High', 'Alternative', \"'09-12\", '39.994204, -75.111842', '1952 E ALLEGHENY AVE', 'https://www.liguoriacademy.org/fortis-program'),\n",
       " (68, 'Excel Academy South', 'Excel South', 'High', 'Alternative', \"'09-12\", '40.02608143, -75.10251944', '4641 ROOSEVELT BLVD', 'http://cameloteducation.org/our-schools/accelerated-schools/excel-academy-south'),\n",
       " (69, 'El Centro de Estudiantes (Big Picture)', 'El Centro', 'High', 'Alternative', \"'09-12\", '40.011798, -75.090845', '4290 PENN ST', 'http://www.bigpicturephiladelphia.org'),\n",
       " (70, 'Ombudsman Northwest', 'Ombudsman NW', 'High', 'Alternative', \"'09-12\", '40.05586457, -75.15648403', '2111 EASTBURN AVE', 'http://www.ombudsman.com/state/pa'),\n",
       " (71, 'One Bright Ray - Elmwood Campus', 'OBR Elmwood', 'High', 'Alternative', \"'09-12\", '39.92251591, -75.22908493', '6404 ELMWOOD AVE', 'http://www.onebrightraycommunity.org'),\n",
       " (72, 'Camelot Academy East', 'Camelot Hunting Park', 'Middle-High', 'Alternative', \"'07-12\", '40.01425525, -75.12599679', '4224 N FRONT ST', 'http://cameloteducation.org/our-schools/transitional-schools/camelot-academy-east'),\n",
       " (73, 'Philadelphia OIC Workforce Academy', 'Phila OIC', 'High', 'Alternative', \"'09-12\", '39.972966, -75.158721', '1231 N BROAD ST', 'http://philaoic.org/workforce-academy'),\n",
       " (74, 'Northeast High School EOP', 'NE High EOP', 'High', 'Alternative', \"'09-12\", '40.055681, -75.071168', '1601 COTTMAN AVE', 'https://www.philasd.org/alternative'),\n",
       " (75, 'South Philadelphia High School EOP', 'South Philly EOP', 'High', 'Alternative', \"'09-12\", '39.9238987, -75.1691065', '2101 S BROAD ST', 'https://www.philasd.org/alternative'),\n",
       " (76, 'Overbrook High School', 'Overbrook High', 'High', 'Neighborhood', \"'09-12\", '39.981028, -75.238556', '5898 LANCASTER AVE', 'http://philasd.org/overbrookhs'),\n",
       " (77, 'High School of Engineering and Science', 'Carver', 'Middle-High', 'Special Admit', \"'07-12\", '39.98341809, -75.16127789', '1600 W NORRIS ST', 'http://philasd.org/hses'),\n",
       " (78, 'Murrell Dobbins Career and Technical High School', 'Dobbins', 'High', 'Citywide', \"'09-12\", '39.9954293, -75.16679334', '2150 W LEHIGH AVE', 'http://philasd.org/dobbins'),\n",
       " (79, 'Strawberry Mansion High School', 'Strawberry Mansion', 'High', 'Neighborhood', \"'09-10, 12\", '39.99074371, -75.18402464', '3133 RIDGE AVE', 'http://philasd.org/smhs'),\n",
       " (80, 'James G. Blaine School', 'Blaine', 'Elementary-Middle', 'Neighborhood', \"'00-08\", '39.98521297, -75.18293887', '3001 W BERKS ST', 'http://philasd.org/blaine'),\n",
       " (81, 'Lewis C. Cassidy Academics Plus School', 'Cassidy', 'Elementary-Middle', 'Neighborhood', \"'00-08\", '39.97551874, -75.25077443', '6523 LANSDOWNE AVE', 'http://philasd.org/cassidy'),\n",
       " (82, 'William Dick School', 'Dick, William', 'Elementary-Middle', 'Neighborhood', \"'00-08\", '39.986730, -75.173787', '2498 W DIAMOND ST', 'http://philasd.org/wdick'),\n",
       " (83, 'Samuel Gompers School', 'Gompers', 'Elementary-Middle', 'Neighborhood', \"'00-08\", '39.99205763, -75.23754028', '5701 WYNNEFIELD AVE', 'http://philasd.org/gompers'),\n",
       " (84, 'Edward Heston School', 'Heston', 'Elementary-Middle', 'Neighborhood', \"'00-08\", '39.977852, -75.229727', '1621 N 54TH ST', 'http://philasd.org/heston'),\n",
       " (85, 'Robert E. Lamberton School', 'Lamberton', 'Elementary-Middle', 'Neighborhood', \"'00-08\", '39.975465, -75.266329', '7501 WOODBINE AVE', 'http://philasd.org/lamberton'),\n",
       " (86, 'E. Washington Rhodes School', 'Rhodes', 'Elementary-Middle', 'Neighborhood', \"'00-08\", '40.00275594, -75.17812979', '2900 W CLEARFIELD ST', 'http://philasd.org/rhodes'),\n",
       " (87, 'Kenderton Elementary School', 'Kenderton', 'Elementary-Middle', 'Neighborhood', \"'00-08\", '40.004940, -75.154241', '1500 W ONTARIO ST', 'http://philasd.org/kenderton'),\n",
       " (88, 'Overbrook Elementary School', 'Overbrook Elem', 'Elementary-Middle', 'Neighborhood', \"'00-08\", '39.98225806, -75.24584611', '2032 N 62ND ST', 'http://philasd.org/overbrook'),\n",
       " (89, 'Thomas M. Peirce School', 'Peirce', 'Elementary', 'Neighborhood', \"'00-06\", '39.998839, -75.168424', '3300 HENRY AVE', 'http://philasd.org/tmpeirce'),\n",
       " (90, 'Dr. Ethel Allen School', 'Allen, Ethel', 'Elementary-Middle', 'Neighborhood', \"'00-08\", '39.99757697, -75.18345963', '3200 W LEHIGH AVE', 'http://philasd.org/ethelallen'),\n",
       " (91, 'Tanner G. Duckrey School', 'Duckrey', 'Elementary-Middle', 'Neighborhood', \"'00-08\", '39.98520302, -75.15830107', '1501 W DIAMOND ST', 'http://philasd.org/duckrey'),\n",
       " (92, 'Richard R. Wright School', 'Wright', 'Elementary', 'Neighborhood', \"'00-05\", '39.99043963, -75.17699812', '2201 N 28TH ST', 'http://philasd.org/wright'),\n",
       " (93, 'Overbrook Educational Center', 'Overbrook EC', 'Elementary-Middle', 'Citywide', \"'00-08\", '39.97429952, -75.25401239', '6722 LANSDOWNE AVE', 'http://philasd.org/oec'),\n",
       " (94, 'Edward Gideon School', 'Gideon', 'Elementary-Middle', 'Neighborhood', \"'00-08\", '39.98447594, -75.18016456', '2817 W GLENWOOD AVE', 'http://philasd.org/gideon'),\n",
       " (95, 'William D. Kelley School', 'Kelley', 'Elementary-Middle', 'Neighborhood', \"'00-08\", '39.98039173, -75.18032689', '1601 N 28TH ST', 'http://philasd.org/kelley'),\n",
       " (96, 'General George G. Meade School', 'Meade', 'Elementary-Middle', 'Neighborhood', \"'00-08\", '39.978587, -75.164718', '1600 N 18TH ST', 'http://philasd.org/meade'),\n",
       " (97, 'Thomas A. Edison High School', 'Edison', 'High', 'Neighborhood', \"'09-12\", '40.01116485, -75.12863791', '151 W LUZERNE ST', 'http://philasd.org/edison'),\n",
       " (98, 'Philadelphia Military Academy', 'PMA', 'High', 'Citywide', \"'09-12\", '39.98470959, -75.15443401', '2118 N. 13TH ST.', 'http://philasd.org/pma'),\n",
       " (99, 'Jules E. Mastbaum Area Vocational Technical High School', 'Mastbaum', 'High', 'Citywide', \"'09-12\", '39.99214686, -75.11213573', '3116 FRANKFORD AVE', 'http://philasd.org/mastbaum'),\n",
       " (100, 'Parkway Northwest High School', 'Parkway N.W.', 'High', 'Special Admit', \"'09-12\", '40.05664074, -75.16457453', '6200 CRITTENDEN ST', 'http://philasd.org/parkwaynw'),\n",
       " (101, 'Parkway Center City Middle College High School', 'Parkway C.C.', 'High', 'Special Admit', \"'09-12\", '39.96300501, -75.1592865', '540 N 13TH ST', 'http://philasd.org/parkwaycc'),\n",
       " (102, 'Parkway West High School', 'Parkway W.', 'High', 'Special Admit', \"'09-12\", '39.96425379, -75.21546704', '4725 FAIRMOUNT AVE', 'http://philasd.org/parkwaywest'),\n",
       " (103, 'William W. Bodine High School', 'Bodine', 'High', 'Special Admit', \"'09-12\", '39.96793026, -75.14343443', '1101 N 4TH ST', 'http://philasd.org/bodine'),\n",
       " (104, 'Penn Treaty High School', 'Penn Treaty', 'Middle-High', 'Neighborhood', \"'06-12\", '39.97272711, -75.12787008', '600 E THOMPSON ST', 'http://philasd.org/penntreaty'),\n",
       " (105, 'Julia de Burgos School', 'De Burgos', 'Elementary-Middle', 'Neighborhood', \"'00-08\", '39.99275164, -75.13862743', '401 W LEHIGH AVE', 'http://philasd.org/deburgos'),\n",
       " (106, 'Vaux High School: A Big Picture', 'Vaux High', 'High', 'Neighborhood', \"'09-12\", '39.976325, -75.174186', '2300 W MASTER ST', 'http://philasd.org/vaux'),\n",
       " (107, 'Alexander Adaire School', 'Adaire', 'Elementary-Middle', 'Neighborhood', \"'00-08\", '39.97232661, -75.12930989', '1300 E PALMER ST', 'http://philasd.org/adaire'),\n",
       " (108, 'Henry A. Brown School', 'Brown, Henry', 'Elementary-Middle', 'Neighborhood', \"'00-08\", '39.98661748, -75.12725674', '1946 E SERGEANT ST', 'http://philasd.org/habrown'),\n",
       " (109, 'Russell H. Conwell School', 'Conwell', 'Middle', 'Special Admit', \"'05-08\", '39.99471406, -75.11527383', '1849 E CLEARFIELD ST', 'http://philasd.org/conwell'),\n",
       " (110, 'Paul L. Dunbar School', 'Dunbar', 'Elementary-Middle', 'Neighborhood', \"'00-08\", '39.97948773, -75.15416974', '1750 N 12TH ST', 'http://philasd.org/dunbar'),\n",
       " (111, 'Lewis Elkin School', 'Elkin', 'Elementary', 'Neighborhood', \"'00-04\", '39.997018, -75.121274', '3199 D ST', 'http://philasd.org/elkin'),\n",
       " (112, 'Horatio B. Hackett School', 'Hackett', 'Elementary', 'Neighborhood', \"'00-05\", '39.98096374, -75.12685511', '2161 E YORK ST', 'http://philasd.org/hackett'),\n",
       " (113, 'John F. Hartranft School', 'Hartranft', 'Elementary-Middle', 'Neighborhood', \"'00-08\", '39.98942228, -75.14477741', '720 W CUMBERLAND ST', 'http://philasd.org/hartranft'),\n",
       " (114, 'William H. Hunter School', 'Hunter', 'Elementary-Middle', 'Neighborhood', \"'00-08\", '39.98725028, -75.13176356', '2400 N FRONT ST', 'http://philasd.org/hunter'),\n",
       " (115, 'James R. Ludlow School', 'Ludlow', 'Elementary-Middle', 'Neighborhood', \"'00-08\", '39.972724, -75.145854', '550 W MASTER ST', 'http://philasd.org/ludlow'),\n",
       " (116, 'William McKinley School', 'McKinley', 'Elementary-Middle', 'Neighborhood', \"'00-08\", '39.9827686, -75.14165528', '2101 N ORKNEY ST', 'http://philasd.org/mckinley'),\n",
       " (117, 'John Moffet School', 'Moffet', 'Elementary', 'Neighborhood', \"'00-05\", '39.97439362, -75.13498462', '127 W OXFORD ST', 'http://philasd.org/moffet'),\n",
       " (118, 'Potter-Thomas School', 'Potter-Thomas', 'Elementary-Middle', 'Neighborhood', \"'00-08\", '39.99690701, -75.14107646', '3001 N 6TH ST', 'http://philasd.org/potterthomas'),\n",
       " (119, 'Richmond School', 'Richmond', 'Elementary', 'Neighborhood', \"'00-05\", '39.983496, -75.110491', '2944 BELGRADE ST', 'http://philasd.org/richmond'),\n",
       " (120, 'Isaac A. Sheppard School', 'Sheppard', 'Elementary', 'Neighborhood', \"'00-04\", '39.993651, -75.131630', '120 W CAMBRIA ST', 'http://philasd.org/sheppard'),\n",
       " (121, 'John Welsh School', 'Welsh', 'Elementary-Middle', 'Neighborhood', \"'00-08\", '39.98653438, -75.13941869', '2331 N 4TH ST', 'http://philasd.org/welsh'),\n",
       " (122, 'Alternative Middle Years at James Martin', 'AMY at Martin', 'Middle', 'Citywide', \"'06-08\", '39.98529996, -75.09718185', '3380 RICHMOND ST', 'http://philasd.org/amymartin'),\n",
       " (123, 'Frances E. Willard School', 'Willard', 'Elementary', 'Neighborhood', \"'00-04\", '39.993065, -75.115907', '1930 E ELKHART ST', 'http://philasd.org/willard'),\n",
       " (124, 'William Cramp School', 'Cramp', 'Elementary', 'Neighborhood', \"'00-05\", '40.00260657, -75.13036297', '3449 N MASCHER ST', 'http://philasd.org/cramp'),\n",
       " (125, 'General Philip Kearny School', 'Kearny', 'Elementary-Middle', 'Neighborhood', \"'00-08\", '39.96385753, -75.14812935', '601 FAIRMOUNT AVE', 'http://philasd.org/kearny'),\n",
       " (126, 'Cayuga School', 'Cayuga', 'Elementary', 'Neighborhood', \"'00-05\", '40.017826, -75.135246', '4344 N 5TH ST', 'http://philasd.org/cayuga'),\n",
       " (127, 'Thurgood Marshall School', 'Marshall, Thurgood', 'Elementary-Middle', 'Neighborhood', \"'00-08\", '40.02938155, -75.13416332', '5120 N 6TH ST', 'http://philasd.org/thurgoodmarshall'),\n",
       " (128, 'Kensington High School for Creative and Performing Arts', 'Kensington CAPA', 'High', 'Neighborhood', \"'09-12\", '39.97794956, -75.1330532', '1901 N FRONT ST', 'http://philasd.org/kcapa'),\n",
       " (129, 'Philip H. Sheridan School', 'Sheridan', 'Elementary', 'Neighborhood', \"'00-04\", '39.99974725, -75.11478572', '800 E ONTARIO ST', 'http://philasd.org/sheridan'),\n",
       " (130, 'Kensington Health Sciences Academy', 'Kensington Health', 'High', 'Neighborhood', \"'09-12\", '39.985026, -75.128685', '2463 EMERALD ST', 'http://philasd.org/khsa'),\n",
       " (131, 'Spring Garden School', 'Spring Garden', 'Elementary-Middle', 'Neighborhood', \"'00-08\", '39.96516155, -75.15614042', '1146 MELON ST', 'http://philasd.org/springgarden'),\n",
       " (132, 'John H. Webster School', 'Webster', 'Elementary', 'Neighborhood', \"'00-05\", '39.996199, -75.104516', '3400 FRANKFORD AVE', 'http://philasd.org/webster'),\n",
       " (133, 'Building 21', 'Building 21', 'High', 'Citywide', \"'09-12\", '40.053631, -75.152481', '6501 LIMEKILN PIKE', 'http://philasd.org/building21'),\n",
       " (134, 'The U School', 'U School', 'High', 'Citywide', \"'09-12\", '39.981983, -75.146256', '2000 N 7TH ST', 'http://philasd.org/uschool'),\n",
       " (135, 'The LINC', 'LINC', 'High', 'Citywide', \"'09-12\", '40.006819, -75.129736', '122 W ERIE AVE', 'http://philasd.org/thelinc'),\n",
       " (136, 'Honorable Luis Munoz-Marin School', 'Munoz-Marin', 'Elementary-Middle', 'Neighborhood', \"'00-08\", '40.00098011, -75.13538958', '3300 N 3RD ST', 'http://philasd.org/munozmarin'),\n",
       " (137, 'Kensington High School', 'Kensington H.S.', 'High', 'Neighborhood', \"'09-12\", '39.98483396, -75.12640188', '2501 CORAL ST.', 'http://philasd.org/kensingtonhs'),\n",
       " (138, 'Central High School', 'Central', 'High', 'Special Admit', \"'09-12\", '40.0372851, -75.15074825', '1700 W OLNEY AVE', 'http://philasd.org/centralhs'),\n",
       " (139, 'Roxborough High School', 'Roxborough', 'High', 'Neighborhood', \"'09-12\", '40.03802479, -75.22283357', '6498 RIDGE AVE', 'http://philasd.org/roxboroughhs'),\n",
       " (140, 'Walter B. Saul High School', 'Saul', 'High', 'Special Admit', \"'09-12\", '40.04902036, -75.21981676', '7100 HENRY AVE', 'http://philasd.org/saul'),\n",
       " (141, 'Philadelphia High School for Girls', 'Girls', 'High', 'Special Admit', \"'09-12\", '40.03898514, -75.14475989', '1400 W OLNEY AVE', 'http://philasd.org/girlshs'),\n",
       " (142, 'Martin Luther King High School', 'MLK', 'High', 'Neighborhood', \"'09-12\", '40.05756238, -75.16217184', '6100 STENTON AVE', 'http://philasd.org/mlkhs'),\n",
       " (143, 'A. Philip Randolph Career and Technical High School', 'Randolph', 'High', 'Citywide', \"'09-12\", '40.008504, -75.179609', '3101 HENRY AVE', 'http://philasd.org/randolph'),\n",
       " (144, 'Anna B. Day School', 'Day', 'Elementary-Middle', 'Neighborhood', \"'00-08\", '40.05840682, -75.16833464', '6324 CRITTENDEN ST', 'http://philasd.org/abday'),\n",
       " (145, 'Franklin S. Edmonds School', 'Edmonds', 'Elementary-Middle', 'Neighborhood', \"'00-08\", '40.0717255, -75.1692495', '8025 THOURON AVE', 'http://philasd.org/edmonds'),\n",
       " (146, 'Eleanor C. Emlen School', 'Emlen', 'Elementary', 'Neighborhood', \"'00-05\", '40.05436289, -75.17790573', '6501 CHEW AVE', 'http://philasd.org/emlen'),\n",
       " (147, 'Fitler Academics Plus School', 'Fitler', 'Elementary-Middle', 'Citywide', \"'00-08\", '40.02610052, -75.16633733', '140 W SEYMOUR ST', 'http://philasd.org/fitler'),\n",
       " (148, 'Charles W. Henry School', 'Henry', 'Elementary-Middle', 'Neighborhood', \"'00-08\", '40.04625771, -75.19658776', '601 CARPENTER LN', 'http://philasd.org/henry'),\n",
       " (149, 'Henry H. Houston School', 'Houston', 'Elementary-Middle', 'Neighborhood', \"'00-08\", '40.059003, -75.195084', '7300 RURAL LN.', 'http://philasd.org/houston'),\n",
       " (150, 'Jenks Academy for Arts and Sciences', 'Jenks, J.S.', 'Elementary-Middle', 'Neighborhood', \"'00-08\", '40.07440887, -75.20356162', '8301 GERMANTOWN AVE', 'http://philasd.org/jsjenks'),\n",
       " (151, 'James Logan School', 'Logan', 'Elementary', 'Neighborhood', \"'00-05\", '40.03085306, -75.15205995', '1700 LINDLEY AVE', 'http://philasd.org/logan'),\n",
       " (152, 'John F. McCloskey School', 'McCloskey', 'Elementary-Middle', 'Neighborhood', \"'00-08\", '40.08162668, -75.17533748', '8500 PICKERING AVE', 'http://philasd.org/mccloskey'),\n",
       " (153, 'Thomas Mifflin School', 'Mifflin', 'Elementary-Middle', 'Neighborhood', \"'00-08\", '40.01357043, -75.19128804', '3624 CONRAD ST', 'http://philasd.org/mifflin'),\n",
       " (154, 'Joseph Pennell School', 'Pennell', 'Elementary', 'Neighborhood', \"'00-05\", '40.04351806, -75.15208663', '1800 NEDRO AVE', 'http://philasd.org/pennell'),\n",
       " (155, 'Samuel Pennypacker School', 'Pennypacker', 'Elementary-Middle', 'Neighborhood', \"'00-08\", '40.06527032, -75.1597946', '1858 E WASHINGTON LN', 'http://philasd.org/pennypacker'),\n",
       " (156, 'Theodore Roosevelt School', 'Roosevelt', 'Elementary-Middle', 'Neighborhood', \"'00-08\", '40.04856262, -75.17529079', '430 E WASHINGTON LN', 'http://philasd.org/roosevelt'),\n",
       " (157, 'Shawmont School', 'Shawmont', 'Elementary-Middle', 'Neighborhood', \"'00-08\", '40.051478, -75.238543', '535 SHAWMONT AVE', 'http://philasd.org/shawmont'),\n",
       " (158, 'Edward T. Steel School', 'Steel', 'Elementary-Middle', 'Neighborhood', \"'00-08\", '40.01879502, -75.15689064', '4301 WAYNE AVE', 'http://philasd.org/steel'),\n",
       " (159, 'Widener Memorial School', 'Widener', 'Elementary-Middle-High', 'Citywide', \"'00-12\", '40.036706, -75.146598', '1450 W OLNEY AVE', 'http://philasd.org/widener'),\n",
       " (160, 'Cook-Wissahickon School', 'Cook-Wissahickon', 'Elementary-Middle', 'Neighborhood', \"'00-08\", '40.022472, -75.206802', '201 E SALAIGNAC ST', 'http://philasd.org/cookwissahickon'),\n",
       " (161, 'Anna L. Lingelbach School', 'Lingelbach', 'Elementary-Middle', 'Neighborhood', \"'00-08\", '40.03708413, -75.18961364', '6340 WAYNE AVE', 'http://philasd.org/lingelbach'),\n",
       " (162, 'James Dobson School', 'Dobson', 'Elementary-Middle', 'Neighborhood', \"'00-08\", '40.03147536, -75.23067163', '4667 UMBRIA ST', 'http://philasd.org/dobson'),\n",
       " (163, 'Hill-Freedman World Academy', 'Hill-Freedman', 'Middle-High', 'Special Admit', \"'06-12\", '40.071311, -75.175303', '1100 E MOUNT PLEASANT AVE', 'http://philasd.org/hfwa'),\n",
       " (164, 'John B. Kelly School', 'Kelly', 'Elementary', 'Neighborhood', \"'00-05\", '40.02479143, -75.1711868', '5116 PULASKI AVE', 'http://philasd.org/kelly'),\n",
       " (165, 'Academy for the Middle Years at Northwest', 'AMY at Northwest', 'Middle', 'Special Admit', \"'06-08\", '40.03154543, -75.21317609', '6000 RIDGE AVE', 'http://philasd.org/amynw'),\n",
       " (166, 'Lankenau High School', 'Lankenau', 'High', 'Special Admit', \"'09-12\", '40.06153271, -75.25295594', '201 SPRING LN', 'http://philasd.org/lankenau'),\n",
       " (167, 'Frankford High School', 'Frankford', 'High', 'Neighborhood', \"'09-12\", '40.021602, -75.084823', '5000 OXFORD AVE', 'http://philasd.org/frankfordhs'),\n",
       " (168, 'Jay Cooke School', 'Cooke', 'Elementary-Middle', 'Neighborhood', \"'00-08\", '40.025526, -75.146074', '1300 W LOUDON ST', 'http://philasd.org/cooke'),\n",
       " (169, 'Warren G. Harding School', 'Harding', 'Middle', 'Neighborhood', \"'06-08\", '40.01291694, -75.07456081', '2000 WAKELING ST', 'http://philasd.org/harding'),\n",
       " (170, 'Samuel Fels High School', 'Fels', 'High', 'Neighborhood', \"'09-12\", '40.03564646, -75.09109404', '5500 LANGDON ST', 'https://www.philasd.org/fels'),\n",
       " (171, 'General Louis Wagner School', 'Wagner', 'Middle', 'Neighborhood', \"'06-08\", '40.05174748, -75.14767962', '1701 W CHELTEN AVE', 'http://philasd.org/wagner'),\n",
       " (172, 'Juniata Park Academy', 'Juniata Park', 'Elementary-Middle', 'Neighborhood', \"'00-08\", '40.01284122, -75.11102921', '801 E HUNTING PARK AVE', 'http://philasd.org/juniatapark'),\n",
       " (173, 'Clara Barton School', 'Barton', 'Elementary', 'Neighborhood', \"'00-02\", '40.0193401, -75.11950188', '4600 ROSEHILL ST', 'http://philasd.org/barton'),\n",
       " (174, 'Laura H. Carnell School', 'Carnell', 'Elementary', 'Neighborhood', \"'00-05\", '40.038957, -75.084142', '1100 DEVEREAUX AVE', 'http://philasd.org/carnell'),\n",
       " (175, 'Ellwood School', 'Ellwood', 'Elementary', 'Neighborhood', \"'00-05\", '40.05472609, -75.13894107', '6701 N 13TH ST', 'http://philasd.org/ellwood'),\n",
       " (176, 'Thomas K. Finletter School', 'Finletter', 'Elementary-Middle', 'Neighborhood', \"'00-08\", '40.043608, -75.119176', '6100 N FRONT ST', 'https://www.philasd.org/finletter'),\n",
       " (177, 'Benjamin Franklin School', 'Franklin K8', 'Elementary-Middle', 'Neighborhood', \"'00-08\", '40.04215213, -75.10498859', '5735 RISING SUN AVE', 'http://philasd.org/franklin'),\n",
       " (178, 'Allen M. Stearne School', 'Stearne', 'Elementary-Middle', 'Neighborhood', \"'00-08\", '40.011752, -75.085112', '1655 UNITY ST', 'http://philasd.org/stearne'),\n",
       " (179, 'Francis Hopkinson School', 'Hopkinson', 'Elementary-Middle', 'Neighborhood', \"'00-08\", '40.00771059, -75.10274511', '4001 L ST', 'http://philasd.org/hopkinson'),\n",
       " (180, 'Feltonville Intermediate School', 'Feltonville Int', 'Elementary', 'Neighborhood', \"'03-05\", '40.02034002, -75.12102564', '238 E WYOMING AVE', 'http://philasd.org/fint'),\n",
       " (181, 'Julia W. Howe School', 'Howe', 'Elementary', 'Neighborhood', \"'00-05\", '40.04113187, -75.14211131', '5800 N 13TH ST', 'http://philasd.org/howe'),\n",
       " (182, 'Henry W. Lawton School', 'Lawton', 'Elementary', 'Neighborhood', \"'00-05\", '40.020648, -75.058976', '6101 JACKSON ST', 'http://philasd.org/lawton'),\n",
       " (183, 'James R. Lowell School', 'Lowell', 'Elementary', 'Neighborhood', \"'00-04\", '40.04086578, -75.12871963', '450 W NEDRO AVE', 'http://philasd.org/lowell'),\n",
       " (184, 'John Marshall School', 'Marshall, John', 'Elementary', 'Neighborhood', \"'00-05\", '40.014546, -75.087158', '4500 GRISCOM ST', 'http://philasd.org/johnmarshall'),\n",
       " (185, 'Grover Washington, Jr. School', 'Washington, Grover', 'Middle', 'Neighborhood', \"'05-08\", '40.035479, -75.117969', '201 E OLNEY AVE', 'http://philasd.org/gwjr'),\n",
       " (186, 'Alexander K. McClure School', 'McClure', 'Elementary', 'Neighborhood', \"'00-05\", '40.015178, -75.137574', '600 W HUNTING PARK AVE', 'http://philasd.org/mcclure'),\n",
       " (187, 'Andrew J. Morrison School', 'Morrison', 'Elementary-Middle', 'Neighborhood', \"'00-08\", '40.02843729, -75.12941126', '5100 N 3RD ST', 'http://philasd.org/morrison'),\n",
       " (188, 'Olney School', 'Olney', 'Elementary-Middle', 'Neighborhood', \"'00-08\", '40.03058672, -75.12134354', '5301 N WATER ST', 'http://philasd.org/olney'),\n",
       " (189, 'James J. Sullivan School', 'Sullivan', 'Elementary', 'Neighborhood', \"'00-05\", '40.01529786, -75.06706036', '5300 DITMAN ST', 'http://philasd.org/sullivan'),\n",
       " (190, 'Bayard Taylor School', 'Taylor', 'Elementary', 'Neighborhood', \"'00-05\", '40.00753033, -75.13793972', '3698 N RANDOLPH ST', 'http://philasd.org/taylor'),\n",
       " (191, 'William H. Ziegler School', 'Ziegler', 'Elementary-Middle', 'Neighborhood', \"'00-08\", '40.03003725, -75.07570448', '5935 SAUL ST', 'http://philasd.org/ziegler'),\n",
       " (192, 'Bridesburg School', 'Bridesburg', 'Elementary-Middle', 'Neighborhood', \"'00-08\", '40.00030082, -75.06660471', '2824 JENKS ST', 'http://philasd.org/bridesburg'),\n",
       " (193, 'Prince Hall School', 'Prince Hall', 'Elementary', 'Neighborhood', \"'00-05\", '40.04770742, -75.14956052', '6101 N GRATZ ST', 'http://philasd.org/princehall'),\n",
       " (194, 'Feltonville School of Arts and Sciences', 'FSAS', 'Middle', 'Neighborhood', \"'06-08\", '40.019437, -75.121675', '210 E COURTLAND ST', 'http://philasd.org/fas'),\n",
       " (195, 'Mary M. Bethune School', 'Bethune', 'Elementary-Middle', 'Neighborhood', \"'00-08\", '40.00269526, -75.14872828', '3301 OLD YORK RD', 'http://philasd.org/bethune'),\n",
       " (196, 'William Rowen School', 'Rowen', 'Elementary', 'Neighborhood', \"'00-05\", '40.05930676, -75.1486472', '6841 N 19TH ST', 'http://philasd.org/rowen'),\n",
       " (197, 'Roberto Clemente School', 'Clemente', 'Middle', 'Neighborhood', \"'06-08\", '40.006819, -75.129736', '122 W ERIE AVE', 'http://philasd.org/clemente'),\n",
       " (198, 'Abraham Lincoln High School', 'Lincoln', 'High', 'Neighborhood', \"'09-12\", '40.04310838, -75.04479221', '3201 RYAN AVE', 'http://philasd.org/lincoln'),\n",
       " (199, 'Northeast High School', 'Northeast', 'High', 'Neighborhood', \"'09-12\", '40.05564409, -75.07118355', '1601 COTTMAN AVE', 'http://philasd.org/nehs'),\n",
       " (200, 'George Washington High School', 'Washington, George', 'High', 'Neighborhood', \"'09-12\", '40.10598577, -75.02723013', '10175 BUSTLETON AVE', 'http://philasd.org/gwhs'),\n",
       " (201, 'Arts Academy at Benjamin Rush', 'Rush', 'High', 'Special Admit', \"'09-12\", '40.08253275, -74.9752061', '11081 KNIGHTS RD', 'http://philasd.org/rush'),\n",
       " (202, 'OIC CADI', 'OIC CADI', 'High', 'Alternative', \"'09-12\", '39.958322, -75.144801', '444 N 3RD ST', 'http://philaoic.org'),\n",
       " (203, 'Excel Academy North', 'Excel North', 'High', 'Alternative', \"'09-12\", '39.978134, -75.177658', '1435 N 26TH ST', 'http://cameloteducation.org/our-schools/accelerated-schools/excel-academy-north'),\n",
       " (204, 'Swenson Arts and Technology High School', 'Swenson', 'High', 'Citywide', \"'09-12\", '40.0921093, -75.01398863', '2750 RED LION RD', 'http://philasd.org/swenson'),\n",
       " (205, 'Gateway to College - Community College of Philadelphia', 'Gateway to College', 'High', 'Alternative', \"'09-12\", '39.9629017, -75.16627046', '1700 SPRING GARDEN ST', 'http://www.ccp.edu/academic-offerings/high-school-student-programs/gateway-college'),\n",
       " (206, 'Woodrow Wilson School', 'Wilson', 'Middle', 'Neighborhood', \"'06-08\", '40.052367, -75.069086', '1800 COTTMAN AVE', 'http://philasd.org/wwilson'),\n",
       " (207, 'Austin Meehan School', 'Meehan', 'Middle', 'Neighborhood', \"'07-08\", '40.045607, -75.044206', '3001 RYAN AVE', 'http://philasd.org/meehan'),\n",
       " (208, 'Baldi School', 'Baldi', 'Middle', 'Neighborhood', \"'06-08\", '40.09331609, -75.05217234', '8801 VERREE RD', 'http://philasd.org/baldi'),\n",
       " (209, 'One Bright Ray - Fairhill Campus', 'OBR Fairhill', 'High', 'Alternative', \"'09-12\", '39.99376434, -75.13801882', '2820 N 4TH ST', 'http://www.onebrightraycommunity.org'),\n",
       " (210, 'Ethan Allen School', 'Allen, Ethan', 'Elementary-Middle', 'Neighborhood', \"'00-08\", '40.0294252, -75.06268841', '6329 BATTERSBY ST', 'http://philasd.org/ethanallen'),\n",
       " (211, 'Joseph H. Brown School', 'Brown, Joseph', 'Elementary', 'Neighborhood', \"'00-06\", '40.04392183, -75.02460195', '3600 STANWOOD ST', 'http://philasd.org/jhbrown'),\n",
       " (212, 'Kennedy C. Crossan School', 'Crossan', 'Elementary', 'Neighborhood', \"'00-05\", '40.06144841, -75.08155085', '7350 BINGHAM ST', 'http://philasd.org/crossan'),\n",
       " (213, 'Hamilton Disston School', 'Disston', 'Elementary-Middle', 'Neighborhood', \"'00-08\", '40.02836911, -75.04658904', '6801 COTTAGE ST', 'http://philasd.org/disston'),\n",
       " (214, 'Edwin Forrest School', 'Forrest', 'Elementary', 'Neighborhood', \"'00-06\", '40.034440, -75.035891', '7300 COTTAGE ST', 'http://philasd.org/forrest'),\n",
       " (215, 'Fox Chase School', 'Fox Chase', 'Elementary', 'Neighborhood', \"'00-05\", '40.076307, -75.082129', '500 RHAWN ST', 'http://philasd.org/foxchase'),\n",
       " (216, 'Thomas Holme School', 'Holme', 'Elementary', 'Neighborhood', \"'00-06\", '40.054988, -75.008965', '9125 ACADEMY RD', 'http://philasd.org/holme'),\n",
       " (217, 'Mayfair School', 'Mayfair', 'Elementary-Middle', 'Neighborhood', \"'00-08\", '40.03945436, -75.05339332', '3001 PRINCETON AVE', 'http://philasd.org/mayfair'),\n",
       " (218, 'J. Hampton Moore School', 'Moore', 'Elementary', 'Neighborhood', \"'00-05\", '40.049135, -75.076912', '6900 SUMMERDALE AVE', 'http://philasd.org/moore'),\n",
       " (219, 'Solomon Solis-Cohen School', 'Solis-Cohen', 'Elementary', 'Neighborhood', \"'00-05\", '40.044644, -75.064725', '7001 HORROCKS ST', 'http://philasd.org/soliscohen'),\n",
       " (220, 'Gilbert Spruance School', 'Spruance', 'Elementary-Middle', 'Neighborhood', \"'00-08\", '40.03756142, -75.07232936', '6401 HORROCKS ST', 'http://philasd.org/spruance'),\n",
       " (221, 'Rhawnhurst School', 'Rhawnhurst', 'Elementary', 'Neighborhood', \"'00-05\", '40.05869601, -75.05898166', '7809 CASTOR AVE', 'http://philasd.org/rhawnhurst'),\n",
       " (222, 'Watson Comly School', 'Comly', 'Elementary', 'Neighborhood', \"'00-05\", '40.12096486, -75.0091088', '1001 BYBERRY RD', 'http://philasd.org/comly'),\n",
       " (223, 'Louis H. Farrell School', 'Farrell', 'Elementary-Middle', 'Neighborhood', \"'00-08\", '40.06657162, -75.05241476', '8300 CASTOR AVE', 'http://philasd.org/farrell'),\n",
       " (224, 'A.L. Fitzpatrick School', 'Fitzpatrick', 'Elementary-Middle', 'Neighborhood', \"'00-08\", '40.080306, -74.976529', '11061 KNIGHTS RD', 'http://philasd.org/fitzpatrick'),\n",
       " (225, 'Anne Frank School', 'Frank, Anne', 'Elementary', 'Neighborhood', \"'00-05\", '40.088288, -75.028222', '2000 BOWLER ST', 'http://philasd.org/annefrank'),\n",
       " (226, 'Robert B. Pollock School', 'Pollock', 'Elementary', 'Neighborhood', \"'00-06\", '40.060116, -75.027130', '2875 WELSH RD', 'http://philasd.org/pollock'),\n",
       " (227, 'Stephen Decatur School', 'Decatur', 'Elementary-Middle', 'Neighborhood', \"'00-08\", '40.095818, -74.970535', '3500 ACADEMY RD', 'http://philasd.org/decatur'),\n",
       " (228, 'Joseph Greenberg School', 'Greenberg', 'Elementary-Middle', 'Neighborhood', \"'00-08\", '40.09608652, -75.05771102', '600 SHARON LN', 'http://philasd.org/greenberg'),\n",
       " (229, 'William H. Loesche School', 'Loesche', 'Elementary', 'Neighborhood', \"'00-05\", '40.11358364, -75.02386784', '595 TOMLINSON RD', 'http://philasd.org/loesche'),\n",
       " (230, 'YES Philly', 'YES Philly', 'High', 'Alternative', \"'09-12\", '39.97290649, -75.15863287', '2709 N BROAD ST', 'http://www.yesphilly.org'),\n",
       " (231, 'Philadelphia Learning Academy South', 'PLAS', 'High', 'Alternative', \"'09-12\", '39.96971371, -75.21013521', '4300 WESTMINSTER AVE', 'http://philasd.org/plasouth'),\n",
       " (232, 'Philadelphia Learning Academy North', 'PLAN', 'High', 'Alternative', \"'08-12\", '40.01425525, -75.12599679', '4224 N FRONT ST', 'http://philasd.org/planorth'),\n",
       " (233, 'Pennypack House School', 'Pennypack', 'High', 'Alternative', \"'09-12\", '40.032021, -75.019689', '7901 STATE RD', 'https://www.philasd.org/pennypackhouse'),\n",
       " (234, 'The Workshop School', 'The Workshop', 'High', 'Citywide', \"'09-12\", '39.95530589, -75.21855329', '221 S HANSON ST', 'http://philasd.org/workshopschool'),\n",
       " (235, 'Crossroads Accelerated Academy', 'Crossroads Accel', 'Middle-High', 'Alternative', \"'07-10\", '39.96971371, -75.21013521', '4300 WESTMINSTER AVE', 'http://philasd.org/crossroads-accelerated'),\n",
       " (236, 'John Hancock Demonstration School', 'Hancock Demonstration', 'Elementary-Middle', 'Neighborhood', \"'00-08\", '40.06774728, -74.98842793', '3700 MORRELL AVE', 'http://philasd.org/hancock'),\n",
       " (237, 'Philadelphia Virtual Academy', 'PVA', 'Middle-High', 'Virtual', \"'06-12\", '39.96102159, -75.16264405', '440 N BROAD ST', 'http://philasd.org/pva'),\n",
       " (238, 'One Bright Ray Mansion', 'OBR Mansion', 'High', 'Alternative', \"'09-12\", '39.99074371, -75.18402464', '3133 RIDGE AVE', 'https://www.onebrightraycommunity.org'),\n",
       " (239, 'One Bright Ray Mansion Evening', 'OBR Mansion Evn', 'High', 'Alternative', \"'09-12\", '39.99074371, -75.18402464', '3133 RIDGE AVE', 'https://www.onebrightraycommunity.org'),\n",
       " (240, 'One Bright Ray - Simpson Campus', 'OBR Simpson', 'High', 'Alternative', \"'09-12\", '40.00528, -75.10560096', '1142 E ERIE AVE', 'http://www.onebrightraycommunity.org'),\n",
       " (241, 'Re-Engagement Center', 'Re-Engagement', 'High', 'Alternative', \"'09-12\", '39.96102159, -75.16264405', '440 N BROAD ST', 'https://www.philasd.org/alternative/get-started'),\n",
       " (242, 'Community Academy of Philadelphia Charter School', 'Community Academy', 'Elementary-Middle-High', 'Citywide', \"'00-12\", '40.00538049, -75.10735613', '1100 E ERIE AVE', 'http://www.communityacademy.org'),\n",
       " (243, 'Harambee Institute of Science and Technology Charter School', 'Harambee', 'Elementary-Middle', 'Citywide', \"'00-08\", '39.97309111, -75.25171974', '640 N 66TH ST', 'http://histcs.org'),\n",
       " (244, 'YouthBuild Philadelphia Charter School', 'Youthbuild', 'High', 'Citywide With Criteria', \"'12\", '39.97290649, -75.15863287', '1231 N BROAD ST', 'http://www.youthbuildphilly.org'),\n",
       " (245, 'Christopher Columbus Charter School', 'Christopher Columbus', 'Elementary-Middle', 'Citywide', \"'00-08\", '39.93894574, -75.15824752', '916 CHRISTIAN ST', 'https://www.columbuscharter.org/'),\n",
       " (246, 'Eugenio Maria De Hostos Charter School', 'De Hostos', 'Elementary-Middle', 'Citywide', \"'00-08\", '40.04655012, -75.12324994', '6301 N 2ND ST', 'https://hostoscharter.org/'),\n",
       " (247, 'Inquiry Charter School', 'Inquiry', 'Elementary', 'Citywide', \"'00-05\", '39.97475234, -75.21252924', '1301 BELMONT AVE', 'http://www.belmontcharternetwork.org/ics/'),\n",
       " (248, 'Imhotep Institute Charter High School', 'Imhotep', 'High', 'Citywide', \"'09-12\", '40.049427, -75.154717', '6201 N 21ST ST', 'https://www.imhotephighschool.com'),\n",
       " (249, 'Laboratory Charter School of Communication and Languages', 'Laboratory', 'Elementary-Middle', 'Citywide', \"'00-08\", '40.001404,-75.145662', '926 W SEDGLEY AVE', 'http://www.thelaboratorycharterschool.com'),\n",
       " (250, 'Multicultural Academy Charter School', 'Multicultural Academy', 'High', 'Citywide', \"'09-12\", '40.01112725, -75.15073123', '3821 N BROAD ST', 'http://www.macs.k12.pa.us'),\n",
       " (251, 'Preparatory Charter School of Mathematics, Science, Technology and Careers', 'Preparatory Charter', 'High', 'Citywide', \"'09-12\", '39.92845355, -75.18665686', '1928 POINT BREEZE AVE', 'https://prepchs.org'),\n",
       " (252, 'West Oak Lane Charter School', 'West Oak Lane', 'Elementary-Middle', 'Citywide', \"'00-08\", '40.05936358, -75.16363798', '7115 STENTON AVE', 'http://www.wolcs.org'),\n",
       " (253, 'Alliance For Progress Charter School', 'Alliance for Progress', 'Elementary-Middle', 'Citywide', \"'00-08\", '39.979731, -75.165471', '1821 CECIL B MOORE AVE', 'http://www.afpcs.org'),\n",
       " (254, 'Freire Charter School', 'Freire', 'Middle-High', 'Citywide', \"'05-12\", '39.95247289, -75.17442259', '2027 CHESTNUT ST', 'http://www.freirecharterschool.org'),\n",
       " (255, 'Math, Civics and Sciences Charter School', 'Math Civics and Sciences', 'Elementary-Middle-High', 'Citywide', \"'01-12\", '39.961301, -75.160970', '447 N BROAD ST', 'http://www.mcscs.org'),\n",
       " (256, 'Philadelphia Academy Charter School', 'Philadelphia Academy', 'Elementary-Middle-High', 'Citywide', \"'00-12\", '40.10358436, -75.01109307', '11000 ROOSEVELT BLVD', 'http://www.philadelphiaacademy.org'),\n",
       " (257, 'Mastery Charter School at Hardy Williams', 'Mastery Hardy Williams', 'Elementary-Middle-High', 'Citywide With Criteria', \"'00-12\", '39.941562, -75.226447', '5400 WARRINGTON AVE', 'http://www.masterycharter.org/hardyhigh'),\n",
       " (258, 'Universal Institute Charter School', 'Universal Institute', 'Elementary-Middle', 'Citywide', \"'00-08\", '39.940931, -75.167940', '801 S 15TH ST', 'http://universalfamilyofschools.org/our-schools/universal-institute-charter-school'),\n",
       " (259, 'Mathematics, Science, and Technology Community Charter School (MaST)', 'MaST', 'Elementary-Middle-High', 'Citywide', \"'00-12\", '40.113832, -75.005658', '1800 BYBERRY RD', 'http://www.mastccs.org'),\n",
       " (260, 'Young Scholars Charter School', 'Young Scholars', 'Middle', 'Citywide', \"'06-08\", '39.96734659, -75.14799661', '900 N MARSHALL ST', 'http://www.phillyscholars.org'),\n",
       " (261, 'Franklin Towne Charter High School', 'Franklin Towne High School', 'High', 'Citywide With Criteria', \"'09-12\", '40.007337, -75.066611', '5301 TACONY ST', 'http://hs.franklintowne.org'),\n",
       " (262, 'Mariana Bracetti Academy Charter School', 'Bracetti, Mariana', 'Elementary-Middle-High', 'Citywide', \"'00-12\", '40.005757, -75.094146', '1840 TORRESDALE AVE', 'http://www.mbacs.org'),\n",
       " (263, 'Esperanza Academy Charter School', 'Esperanza Academy', 'Elementary-Middle-High', 'Citywide', \"'04, 06-12\", '40.01478539, -75.13232396', '301 W HUNTING PARK AVE', 'http://esperanzaacademycs.org'),\n",
       " (264, 'New Foundations Charter School', 'New Foundations', 'Elementary-Middle-High', 'Citywide With Criteria', \"'00-12\", '40.035070, -75.024187', '8001 TORRESDALE AVE', 'http://www.nfcsonline.org'),\n",
       " (265, 'People for People Charter School', 'People for People', 'Elementary-Middle-High', 'Citywide', \"'00-08, 11-12\", '39.96810141, -75.16067477', '800 N BROAD ST', 'https://www.pfpcs.org'),\n",
       " (266, 'Philadelphia Performing Arts: A String Theory Charter School', 'Philadelphia Performing Arts', 'Elementary-Middle-High', 'Citywide With Criteria', \"'00-12\", '39.91777662, -75.17166577', '2600 S BROAD ST', 'http://www.stringtheoryschools.org'),\n",
       " (267, 'Global Leadership Academy Charter School', 'Global Leadership', 'Elementary-Middle', 'Citywide', \"'00-08\", '39.97335953, -75.2154352', '4601 W GIRARD AVE', 'http://www.glacharter.org'),\n",
       " (268, 'Independence Charter School', 'Independence', 'Elementary-Middle', 'Citywide', \"'00-08\", '39.94496682, -75.16855598', '1600 LOMBARD ST', 'http://www.independencecharter.org'),\n",
       " (269, 'KIPP DuBois Charter School', 'KIPP DuBois', 'High', 'Citywide With Criteria', \"'09-12\", '39.98043019, -75.22085032', '5070 PARKSIDE AVE', 'http://kippphiladelphia.org/our-schools/kipp-dubois-collegiate-academy'),\n",
       " (270, 'West Philadelphia Achievement Charter School', 'West Philadelphia Achievement', 'Elementary', 'Citywide', \"'00-05\", '39.970667, -75.254111', '6701 CALLOWHILL ST', 'http://www.wpaces.org'),\n",
       " (271, 'Philadelphia Electrical and Technology Charter School', 'PE&T', 'High', 'Citywide', \"'09-12\", '39.95060789, -75.16511082', '1420 CHESTNUT ST', 'http://www.petchs.org'),\n",
       " (272, 'Richard Allen Preparatory Charter School', 'Allen, Richard', 'Middle', 'Citywide', \"'05-08\", '39.92809187, -75.21926743', '2601 S 58TH ST', 'http://www.rapcs.org'),\n",
       " (273, 'Russell Byers Charter School', 'Byers, Russell', 'Elementary-Middle', 'Citywide', \"'00-08\", '39.95594922, -75.17155064', '1911 ARCH ST', 'http://www.byerschool.org'),\n",
       " (274, 'Mastery Charter School at Lenfest', 'Mastery Lenfest', 'Middle-High', 'Citywide With Criteria', \"'07-12\", '39.94950579, -75.14734776', '35 S 4TH ST', 'https://masterycharter.org/school/lenfest-campus/'),\n",
       " (275, 'Wissahickon Charter School', 'Wissahickon', 'Elementary-Middle', 'Citywide With Criteria', \"'00-08\", '40.01537246, -75.17405347', '4700 WISSAHICKON AVE', 'http://www.wissahickoncharter.org'),\n",
       " (276, 'First Philadelphia Preparatory Charter School', 'First Philadelphia', 'Elementary-Middle-High', 'Citywide With Criteria', \"'00-12\", '40.00719991, -75.08240619', '4300 TACONY ST', 'http://www.ap-schools.org/First-Phila-Prep'),\n",
       " (277, 'Green Woods Charter School', 'Green Woods', 'Elementary-Middle', 'Citywide With Criteria', \"'00-08\", '40.04416378, -75.23385852', '468 DOMINO LN', 'http://www.greenwoodscharter.org'),\n",
       " (278, 'Maritime Academy Charter School (MACHS)', 'Maritime', 'Elementary-Middle-High', 'Citywide', \"'01-12\", '40.007862, -75.068318', '2275 BRIDGE ST', 'http://www.maritimecharter.org'),\n",
       " (279, 'Belmont Charter School', 'Belmont', 'Elementary-Middle-High', 'Neighborhood', \"'00-12\", '39.96696484, -75.20487093', '4030 BROWN ST', 'http://www.belmontcharternetwork.org/bcs'),\n",
       " (280, 'KIPP Philadelphia Charter School', 'KIPP Philadelphia', 'Elementary-Middle', 'Citywide', \"'00-08\", '39.992038, -75.158039', '2539 N 16TH ST', 'http://kippphiladelphia.org/our-schools/kipp-philadelphia-preparatory-academy'),\n",
       " (281, 'Discovery Charter School', 'Discovery', 'Elementary-Middle', 'Citywide', \"'00-08\", '39.97770823, -75.21350485', '4700 PARKSIDE AVE', 'https://www.jykdiscoverycharterschool.com/'),\n",
       " (282, 'Philadelphia Montessori Charter School', 'Philadelphia Montessori', 'Elementary', 'Citywide', \"'00-06\", '39.91656437, -75.24515327', '2227 ISLAND RD', 'http://www.philadelphiamontessori.org'),\n",
       " (283, 'Ad Prima Charter School', 'Ad Prima', 'Elementary-Middle', 'Citywide', \"'00-08\", '39.984296, -75.247860', '1922 N 63RD ST', 'http://www.adprimacharterschools.org'),\n",
       " (284, 'Mastery Charter School at Shoemaker', 'Mastery Shoemaker', 'Middle-High', 'Citywide With Criteria', \"'07-12\", '39.975799, -75.228437', '5301 MEDIA ST', 'http://www.masterycharter.org/shoemaker'),\n",
       " (285, 'Folk Arts-Cultural Treasures Charter School', 'FACTS', 'Elementary-Middle', 'Citywide', \"'00-08\", '39.95885103, -75.15551365', '1023 CALLOWHILL ST', 'http://www.factschool.org'),\n",
       " (286, 'Mastery Charter School at Thomas Campus', 'Mastery Thomas', 'Elementary-Middle-High', 'Citywide With Criteria', \"'00-12\", '39.91454096, -75.16358831', '927 JOHNSTON ST', 'http://www.masterycharter.org/thomaselementary'),\n",
       " (287, 'Northwood Academy Charter School', 'Northwood', 'Elementary-Middle', 'Citywide With Criteria', \"'00-08\", '40.02015006, -75.09523811', '4621 CASTOR AVE', 'http://www.northwoodcs.org'),\n",
       " (288, 'Boys Latin of Philadelphia Charter School', 'Boys Latin', 'Middle-High', 'Citywide', \"'06-12\", '39.95172558, -75.23374851', '5501 CEDAR AVE', 'http://www.boyslatin.org'),\n",
       " (289, 'Keystone Academy Charter School', 'Keystone Academy', 'Elementary-Middle', 'Citywide', \"'00-08\", '40.021916, -75.045089', '4521 LONGSHORE AVE', 'http://www.keystoneacademycs.org'),\n",
       " (290, 'Southwest Leadership Academy Charter School', 'Southwest Leadership', 'Elementary-Middle', 'Citywide With Criteria', \"'00-08\", '39.918099, -75.242600', '7101 PASCHALL AVE', 'http://www.slacs-phila.org'),\n",
       " (291, 'Mastery Charter School at Pickett', 'Mastery Pickett', 'Middle-High', 'Citywide With Criteria', \"'06-12\", '40.03187441, -75.18087124', '5700 WAYNE AVE', 'http://www.masterycharter.org/schools/pickett-campus'),\n",
       " (292, 'Pan American Academy Charter School', 'Pan American', 'Elementary-Middle', 'Citywide With Criteria', \"'00-08\", '39.99428061, -75.13614883', '2830 N AMERICAN ST', 'https://www.panamcs.org/'),\n",
       " (293, 'Antonia Pantoja Charter School', 'Pantoja, Antonia', 'Elementary-Middle', 'Citywide', \"'00-08\", '40.01300525, -75.13136564', '4101 N AMERICAN ST', 'https://pantojacharter.org/'),\n",
       " (294, 'KIPP West Philadelphia Preparatory Charter School', 'KIPP West', 'Middle', 'Citywide With Criteria', \"'05-08\", '39.94453199, -75.24184422', '5900 BALTIMORE AVE', 'http://kippphiladelphia.org/our-schools/kipp-west-philadelphia-preparatory-charter-school'),\n",
       " (295, 'Sankofa Freedom Academy Charter School', 'Sankofa', 'Elementary-Middle-High', 'Citywide With Criteria', \"'00-12\", '39.987082, -75.128641', '2501 KENSINGTON AVE', 'http://www.sfacs.us'),\n",
       " (296, 'Franklin Towne Charter Elementary School', 'Franklin Towne Elementary', 'Elementary-Middle', 'Citywide With Criteria', \"'00-08\", '39.99551599, -75.07472434', '4259 RICHMOND ST', 'http://es.franklintowne.org'),\n",
       " (297, 'Tacony Academy Charter School', 'Tacony Academy', 'Elementary-Middle-High', 'Citywide With Criteria', \"'00-12\", '40.06684222, -75.06598353', '1330 RHAWN ST', 'http://www.ap-schools.org/Tacony-Academy-Charter'),\n",
       " (298, 'Aspira Charter School at Stetson', 'Aspira Stetson', 'Middle', 'Neighborhood', \"'05-08\", '39.99806894, -75.12546663', '3200 B ST', 'http://stetsoncharter.org/'),\n",
       " (299, 'Mastery Charter School at Harrity', 'Mastery Harrity', 'Elementary-Middle', 'Neighborhood', \"'00-08\", '39.94852458, -75.23548525', '5601 CHRISTIAN ST', 'http://www.masterycharter.org/harrity'),\n",
       " (300, 'Mastery Charter School at Mann', 'Mastery Mann', 'Elementary', 'Neighborhood', \"'00-06\", '39.98590147, -75.2313266', '5376 W BERKS ST', 'http://www.masterycharter.org/school/mann-elementary'),\n",
       " (301, 'Mastery Charter School at Smedley', 'Mastery Smedley', 'Elementary', 'Neighborhood', \"'00-06\", '40.019786, -75.073892', '1790 BRIDGE ST', 'http://www.masterycharter.org/smedley'),\n",
       " (302, 'Universal Charter School at Bluford', 'Universal Bluford', 'Elementary', 'Neighborhood', \"'00-06\", '39.973739, -75.236020', '5801 MEDIA ST', 'https://www.universalfamilyofschools.org/universal-bluford/'),\n",
       " (303, 'Universal Charter School at Daroff', 'Universal Daroff', 'Elementary-Middle', 'Neighborhood', \"'00-08\", '39.96558158, -75.2325217', '5630 VINE ST', 'https://www.universalfamilyofschools.org/universal-daroff/'),\n",
       " (304, 'Mastery Charter School at Douglass', 'Mastery Douglass', 'Elementary-Middle', 'Neighborhood', \"'00-08\", '39.98461532, -75.16846267', '2118 W NORRIS ST', 'http://www.masterycharter.org/school/frederick-douglass-elementary'),\n",
       " (305, 'Aspira Charter School at Olney', 'Aspira Olney', 'High', 'Neighborhood', \"'09-12\", '40.028772, -75.123808', '100 W DUNCANNON AVE', 'https://olneycharter.org/'),\n",
       " (306, 'Mastery Charter School at Clymer', 'Mastery Clymer', 'Elementary', 'Neighborhood', \"'00-06\", '39.99565934, -75.15034419', '1201 W RUSH ST', 'http://www.masterycharter.org/school/clymer-elementary'),\n",
       " (307, 'Mastery Charter School at Gratz', 'Mastery Gratz', 'Middle-High', 'Neighborhood', \"'07-12\", '40.01453965, -75.15660685', '1798 W HUNTING PARK AVE', 'http://www.masterycharter.org/gratzprep'),\n",
       " (308, 'Universal Charter School at Audenried', 'Universal Audenried', 'High', 'Neighborhood', \"'09-12\", '39.933737, -75.198590', '3301 TASKER ST', 'https://www.universalfamilyofschools.org/universal-audenreid-charter-high-school/'),\n",
       " (309, 'Universal Charter School at Vare', 'Universal Vare', 'Middle', 'Neighborhood', \"'05-08\", '39.925837, -75.185707', '2100 S 24TH ST', 'https://www.universalfamilyofschools.org/universal-vare-charter-school/'),\n",
       " (310, 'Lindley Academy Charter at Birney', 'Lindely Birney', 'Elementary-Middle', 'Neighborhood', \"'00-08\", '40.02954904, -75.13883269', '900 LINDLEY AVE', 'http://www.ap-schools.org/Lindley-Academy'),\n",
       " (311, 'Mastery Charter School at Cleveland', 'Mastery Cleveland', 'Elementary-Middle', 'Neighborhood', \"'00-08\", '40.01027824, -75.15908455', '3701 N 19TH ST', 'http://www.masterycharter.org/cleveland'),\n",
       " (312, 'Universal Charter School at Creighton', 'Universal Creighton', 'Elementary-Middle', 'Neighborhood', \"'00-08\", '40.03404277, -75.10586492', '5401 TABOR AVE', 'https://www.universalfamilyofschools.org/universal-creighton/'),\n",
       " (313, 'The Philadelphia Charter School for Arts and Sciences', 'Edmunds', 'Elementary-Middle', 'Neighborhood', \"'00-08\", '40.02423246, -75.08599631', '1197 HAWORTH ST', 'http://www.stringtheoryschools.org/edmunds-campus/art-science-landing-page'),\n",
       " (314, 'Memphis Street Academy Charter School at J.P. Jones', 'Memphis Street', 'Middle', 'Neighborhood', \"'05-08\", '39.98588986, -75.11285949', '2950 MEMPHIS ST', 'http://www.ap-schools.org/Memphis-Street-Academy'),\n",
       " (315, 'Universal Charter School at Alcorn', 'Universal Alcorn', 'Elementary-Middle', 'Neighborhood', \"'00-08\", '39.935499, -75.197771', '3200 DICKINSON ST', 'https://www.universalfamilyofschools.org/universal-alcorn-elementary/'),\n",
       " (316, 'Mastery Charter School at Pastorius', 'Mastery Pastorius', 'Elementary-Middle', 'Neighborhood', \"'00-08\", '40.048208, -75.161424', '5650 SPRAGUE ST', 'http://www.masterycharter.org/school/francis-d-pastorius-elementary'),\n",
       " (317, 'Mastery Charter School at Wister', 'Mastery Wister', 'Elementary', 'Neighborhood', \"'00-05\", '40.03288146, -75.16672063', '67 E BRINGHURST ST', 'http://www.masterycharter.org/wister'),\n",
       " (318, 'Global Leadership Academy at Huey', 'Global Leadership at Huey', 'Elementary-Middle', 'Neighborhood', \"'00-08\", '39.95332691, -75.22685833', '5200 PINE ST', 'http://www.glacharter.org'),\n",
       " (319, 'KIPP North Philadelphia Charter School', 'KIPP N Phila Charter', 'Elementary', 'Citywide', \"'00-03\", '39.991930, -75.158212', '2539 N 16TH ST', 'http://kippphiladelphia.org/kipp-north-philadelphia-academy'),\n",
       " (320, 'Deep Roots Charter School', 'Deep Roots Charter', 'Elementary', 'Citywide With Criteria', \"'00-06\", '39.998066, -75.101664', '3556 FRANKFORD AVE', 'https://deeprootscs.org'),\n",
       " (321, 'Mastery Prep Elementary Charter School', 'Mastery Prp Elm', 'Elementary', 'Citywide', \"'00-04\", '40.013457, -75.156128', '1801 W PIKE ST', 'http://www.masterycharter.org/masteryprepelementary'),\n",
       " (322, 'MaST Community Charter School II', 'MaST II', 'Elementary-Middle-High', 'Citywide', \"'00-07, 09-10\", '40.017476, -75.044372', '6501 STATE RD', 'https://mast2.org/'),\n",
       " (323, 'TECH Freire Charter School', 'TECH Freire', 'High', 'Citywide With Criteria', \"'09-12\", '39.986869, -75.155669', '2221 N BROAD ST', 'http://www.techfreire.org'),\n",
       " (324, 'Independence Charter School West', 'Independence West', 'Elementary-Middle', 'Citywide With Criteria', \"'00-07\", '39.93731366, -75.22614036', '5600 CHESTER AVE', 'http://www.icswest.org'),\n",
       " (325, 'KIPP West Philadelphia Charter School', 'KIPP West Elementary', 'Elementary', 'Citywide', \"'00-04\", '39.94453199, -75.24184422', '5070 PARKSIDE AVE', 'http://kippphiladelphia.org/our-schools/kipp-west-philadelphia-elementary-academy/'),\n",
       " (326, 'MAST III Charter School', 'MAST III', 'Elementary', 'Citywide With Criteria', \"'00-06\", '40.109575, -74.991671', '1 CROWN WAY', 'https://mast3.org/'),\n",
       " (327, 'Philadelphia Hebrew Charter', 'Philadelphia Hebrew', 'Elementary', 'Citywide', \"'00-02\", '40.012045, -75.184376', '3300 HENRY AVE', 'http://philadelphiahebrewpublic.org/')]"
      ]
     },
     "execution_count": 16,
     "metadata": {},
     "output_type": "execute_result"
    }
   ],
   "source": [
    "session.execute(\"SELECT * FROM schools;\").fetchall()"
   ]
  },
  {
   "cell_type": "code",
   "execution_count": 17,
   "metadata": {
    "scrolled": true
   },
   "outputs": [
    {
     "name": "stdout",
     "output_type": "stream",
     "text": [
      "2021-05-08 09:23:10,025 INFO sqlalchemy.engine.base.Engine DROP TABLE \"schools\"\n",
      "2021-05-08 09:23:10,026 INFO sqlalchemy.engine.base.Engine ()\n"
     ]
    },
    {
     "data": {
      "text/plain": [
       "<sqlalchemy.engine.result.ResultProxy at 0x7faa1c01a550>"
      ]
     },
     "execution_count": 17,
     "metadata": {},
     "output_type": "execute_result"
    }
   ],
   "source": [
    "session.execute('DROP TABLE \"schools\"')"
   ]
  },
  {
   "cell_type": "code",
   "execution_count": 18,
   "metadata": {
    "scrolled": false
   },
   "outputs": [
    {
     "name": "stdout",
     "output_type": "stream",
     "text": [
      "2021-05-08 09:23:10,733 INFO sqlalchemy.engine.base.Engine \n",
      "CREATE TABLE schools (\n",
      "\tid INTEGER NOT NULL, \n",
      "\tschool_name VARCHAR, \n",
      "\tabbrv_name VARCHAR, \n",
      "\tschool_level VARCHAR, \n",
      "\ttype VARCHAR, \n",
      "\tgrade_level VARCHAR, \n",
      "\tgeolocation VARCHAR, \n",
      "\taddress VARCHAR, \n",
      "\twebsite VARCHAR, \n",
      "\tspr_score INTEGER, \n",
      "\tPRIMARY KEY (id)\n",
      ")\n",
      "\n",
      "\n",
      "2021-05-08 09:23:10,734 INFO sqlalchemy.engine.base.Engine ()\n",
      "2021-05-08 09:23:10,736 INFO sqlalchemy.engine.base.Engine COMMIT\n"
     ]
    }
   ],
   "source": [
    "Base.metadata.tables[\"schools\"].create(bind=engine)"
   ]
  },
  {
   "cell_type": "code",
   "execution_count": 19,
   "metadata": {
    "scrolled": false
   },
   "outputs": [
    {
     "name": "stdout",
     "output_type": "stream",
     "text": [
      "2021-05-08 09:23:11,451 INFO sqlalchemy.engine.base.Engine PRAGMA main.table_info(\"schools\")\n",
      "2021-05-08 09:23:11,452 INFO sqlalchemy.engine.base.Engine ()\n",
      "2021-05-08 09:23:11,455 INFO sqlalchemy.engine.base.Engine BEGIN (implicit)\n",
      "2021-05-08 09:23:11,459 INFO sqlalchemy.engine.base.Engine INSERT INTO schools (id, school_name, abbrv_name, school_level, type, grade_level, geolocation, address, website, spr_score) VALUES (?, ?, ?, ?, ?, ?, ?, ?, ?, ?)\n",
      "2021-05-08 09:23:11,459 INFO sqlalchemy.engine.base.Engine ((0, 'John Bartram High School', 'Bartram', 'High', 'Neighborhood', \"'09-12\", '39.92149737, -75.23405562', '2401 S 67TH ST', 'http://philasd.org/bartram', '19'), (1, 'West Philadelphia High School', 'West Philadelphia', 'High', 'Neighborhood', \"'09-12\", '39.958110, -75.219654', '4901 CHESTNUT ST', 'http://philasd.org/wphs', '23'), (2, 'High School of the Future', 'HS of Future', 'High', 'Citywide', \"'09-12\", '39.97465766, -75.2047566', '4021 PARKSIDE AVE', 'http://philasd.org/sof', '24'), (3, 'Paul Robeson High School for Human Services', 'Robeson', 'High', 'Citywide', \"'09-12\", '39.95679553, -75.20476311', '4125 LUDLOW ST', 'http://philasd.org/robeson', '49'), (4, 'William L. Sayre High School', 'Sayre', 'High', 'Neighborhood', \"'09-12\", '39.95759354, -75.23859405', '5800 WALNUT ST', 'http://philasd.org/sayre', '12'), (5, 'William T. Tilden School', 'Tilden', 'Middle', 'Neighborhood', \"'05-08\", '39.92093619, -75.23227632', '6601 ELMWOOD AVE', 'http://philasd.org/tilden', '41'), (6, 'Motivation High School', 'Motivation', 'High', 'Special Admit', \"'09-12\", '39.94453199, -75.24184422', '5900 BALTIMORE AVE', 'http://philasd.org/motivationhs', '41'), (7, 'John Barry School', 'Barry', 'Elementary-Middle', 'Neighborhood', \"'00-08\", '39.96437494, -75.23860376', '5900 RACE ST', 'http://philasd.org/barry', '23')  ... displaying 10 of 328 total bound parameter sets ...  (326, 'MAST III Charter School', 'MAST III', 'Elementary', 'Citywide With Criteria', \"'00-06\", '40.109575, -74.991671', '1 CROWN WAY', 'https://mast3.org/', None), (327, 'Philadelphia Hebrew Charter', 'Philadelphia Hebrew', 'Elementary', 'Citywide', \"'00-02\", '40.012045, -75.184376', '3300 HENRY AVE', 'http://philadelphiahebrewpublic.org/', None))\n",
      "2021-05-08 09:23:11,463 INFO sqlalchemy.engine.base.Engine COMMIT\n"
     ]
    }
   ],
   "source": [
    "sqlite_table = \"schools\"\n",
    "schools_data.to_sql(sqlite_table, engine, if_exists = \"append\", index =True)"
   ]
  },
  {
   "cell_type": "code",
   "execution_count": 20,
   "metadata": {},
   "outputs": [],
   "source": [
    "#session.execute('alter table schools drop id')"
   ]
  },
  {
   "cell_type": "code",
   "execution_count": 21,
   "metadata": {},
   "outputs": [
    {
     "name": "stdout",
     "output_type": "stream",
     "text": [
      "2021-05-08 09:23:12,774 INFO sqlalchemy.engine.base.Engine SELECT name FROM sqlite_master WHERE type='table' ORDER BY name\n",
      "2021-05-08 09:23:12,775 INFO sqlalchemy.engine.base.Engine ()\n"
     ]
    },
    {
     "data": {
      "text/plain": [
       "['census_household',\n",
       " 'censustracts',\n",
       " 'household',\n",
       " 'philly_schools',\n",
       " 'query_url',\n",
       " 'schools']"
      ]
     },
     "execution_count": 21,
     "metadata": {},
     "output_type": "execute_result"
    }
   ],
   "source": [
    "engine.table_names()\n",
    "#session.execute('alter table schools add primary key(id)')"
   ]
  },
  {
   "cell_type": "code",
   "execution_count": 22,
   "metadata": {},
   "outputs": [
    {
     "name": "stdout",
     "output_type": "stream",
     "text": [
      "2021-05-08 09:23:13,461 INFO sqlalchemy.engine.base.Engine ROLLBACK\n"
     ]
    }
   ],
   "source": [
    "session.close()"
   ]
  },
  {
   "cell_type": "code",
   "execution_count": null,
   "metadata": {},
   "outputs": [],
   "source": []
  }
 ],
 "metadata": {
  "kernelspec": {
   "display_name": "Python [conda env:PythonData] *",
   "language": "python",
   "name": "conda-env-PythonData-py"
  },
  "language_info": {
   "codemirror_mode": {
    "name": "ipython",
    "version": 3
   },
   "file_extension": ".py",
   "mimetype": "text/x-python",
   "name": "python",
   "nbconvert_exporter": "python",
   "pygments_lexer": "ipython3",
   "version": "3.6.10"
  }
 },
 "nbformat": 4,
 "nbformat_minor": 4
}
