{
 "cells": [
  {
   "cell_type": "code",
   "execution_count": 1,
   "metadata": {},
   "outputs": [],
   "source": [
    "import pandas as pd\n",
    "import sqlalchemy\n",
    "from sqlalchemy import create_engine, Column, Integer, String\n",
    "from sqlalchemy.ext.declarative import declarative_base\n",
    "Base = declarative_base()"
   ]
  },
  {
   "cell_type": "markdown",
   "metadata": {},
   "source": [
    "# Schools Data"
   ]
  },
  {
   "cell_type": "code",
   "execution_count": 2,
   "metadata": {},
   "outputs": [
    {
     "data": {
      "text/html": [
       "<div>\n",
       "<style scoped>\n",
       "    .dataframe tbody tr th:only-of-type {\n",
       "        vertical-align: middle;\n",
       "    }\n",
       "\n",
       "    .dataframe tbody tr th {\n",
       "        vertical-align: top;\n",
       "    }\n",
       "\n",
       "    .dataframe thead th {\n",
       "        text-align: right;\n",
       "    }\n",
       "</style>\n",
       "<table border=\"1\" class=\"dataframe\">\n",
       "  <thead>\n",
       "    <tr style=\"text-align: right;\">\n",
       "      <th></th>\n",
       "      <th>Publication Name</th>\n",
       "      <th>Abbreviated Name</th>\n",
       "      <th>School Level</th>\n",
       "      <th>Admission Type</th>\n",
       "      <th>Current Grade Span Served</th>\n",
       "      <th>GPS Location</th>\n",
       "      <th>Street Address</th>\n",
       "      <th>Website</th>\n",
       "    </tr>\n",
       "  </thead>\n",
       "  <tbody>\n",
       "    <tr>\n",
       "      <th>0</th>\n",
       "      <td>John Bartram High School</td>\n",
       "      <td>Bartram</td>\n",
       "      <td>High</td>\n",
       "      <td>Neighborhood</td>\n",
       "      <td>'09-12</td>\n",
       "      <td>39.92149737, -75.23405562</td>\n",
       "      <td>2401 S 67TH ST</td>\n",
       "      <td>http://philasd.org/bartram</td>\n",
       "    </tr>\n",
       "    <tr>\n",
       "      <th>1</th>\n",
       "      <td>West Philadelphia High School</td>\n",
       "      <td>West Philadelphia</td>\n",
       "      <td>High</td>\n",
       "      <td>Neighborhood</td>\n",
       "      <td>'09-12</td>\n",
       "      <td>39.958110, -75.219654</td>\n",
       "      <td>4901 CHESTNUT ST</td>\n",
       "      <td>http://philasd.org/wphs</td>\n",
       "    </tr>\n",
       "    <tr>\n",
       "      <th>2</th>\n",
       "      <td>High School of the Future</td>\n",
       "      <td>HS of Future</td>\n",
       "      <td>High</td>\n",
       "      <td>Citywide</td>\n",
       "      <td>'09-12</td>\n",
       "      <td>39.97465766, -75.2047566</td>\n",
       "      <td>4021 PARKSIDE AVE</td>\n",
       "      <td>http://philasd.org/sof</td>\n",
       "    </tr>\n",
       "    <tr>\n",
       "      <th>3</th>\n",
       "      <td>Paul Robeson High School for Human Services</td>\n",
       "      <td>Robeson</td>\n",
       "      <td>High</td>\n",
       "      <td>Citywide</td>\n",
       "      <td>'09-12</td>\n",
       "      <td>39.95679553, -75.20476311</td>\n",
       "      <td>4125 LUDLOW ST</td>\n",
       "      <td>http://philasd.org/robeson</td>\n",
       "    </tr>\n",
       "    <tr>\n",
       "      <th>4</th>\n",
       "      <td>William L. Sayre High School</td>\n",
       "      <td>Sayre</td>\n",
       "      <td>High</td>\n",
       "      <td>Neighborhood</td>\n",
       "      <td>'09-12</td>\n",
       "      <td>39.95759354, -75.23859405</td>\n",
       "      <td>5800 WALNUT ST</td>\n",
       "      <td>http://philasd.org/sayre</td>\n",
       "    </tr>\n",
       "  </tbody>\n",
       "</table>\n",
       "</div>"
      ],
      "text/plain": [
       "                              Publication Name   Abbreviated Name  \\\n",
       "0                     John Bartram High School            Bartram   \n",
       "1                West Philadelphia High School  West Philadelphia   \n",
       "2                    High School of the Future       HS of Future   \n",
       "3  Paul Robeson High School for Human Services            Robeson   \n",
       "4                 William L. Sayre High School              Sayre   \n",
       "\n",
       "  School Level Admission Type Current Grade Span Served  \\\n",
       "0         High   Neighborhood                    '09-12   \n",
       "1         High   Neighborhood                    '09-12   \n",
       "2         High       Citywide                    '09-12   \n",
       "3         High       Citywide                    '09-12   \n",
       "4         High   Neighborhood                    '09-12   \n",
       "\n",
       "                GPS Location     Street Address                     Website  \n",
       "0  39.92149737, -75.23405562     2401 S 67TH ST  http://philasd.org/bartram  \n",
       "1      39.958110, -75.219654   4901 CHESTNUT ST     http://philasd.org/wphs  \n",
       "2   39.97465766, -75.2047566  4021 PARKSIDE AVE      http://philasd.org/sof  \n",
       "3  39.95679553, -75.20476311     4125 LUDLOW ST  http://philasd.org/robeson  \n",
       "4  39.95759354, -75.23859405     5800 WALNUT ST    http://philasd.org/sayre  "
      ]
     },
     "execution_count": 2,
     "metadata": {},
     "output_type": "execute_result"
    }
   ],
   "source": [
    "schools_data = pd.read_csv(\"schools_clean.csv\")\n",
    "schools_data.head()"
   ]
  },
  {
   "cell_type": "code",
   "execution_count": 3,
   "metadata": {},
   "outputs": [],
   "source": [
    "schools_data.rename(columns = {\"Publication Name\" : \"school_name\", \n",
    "                               \"Abbreviated Name\": \"abbrv_name\",\n",
    "                               \"School Level\": \"school_level\",\n",
    "                               \"Admission Type\": \"type\",\n",
    "                               \"Current Grade Span Served\": \"grade_level\",\n",
    "                               \"GPS Location\":\"geolocation\",\n",
    "                               \"Street Address\": \"address\",\n",
    "                               \"Website\": \"website\"\n",
    "                              }, inplace=True)"
   ]
  },
  {
   "cell_type": "code",
   "execution_count": 4,
   "metadata": {},
   "outputs": [
    {
     "data": {
      "text/html": [
       "<div>\n",
       "<style scoped>\n",
       "    .dataframe tbody tr th:only-of-type {\n",
       "        vertical-align: middle;\n",
       "    }\n",
       "\n",
       "    .dataframe tbody tr th {\n",
       "        vertical-align: top;\n",
       "    }\n",
       "\n",
       "    .dataframe thead th {\n",
       "        text-align: right;\n",
       "    }\n",
       "</style>\n",
       "<table border=\"1\" class=\"dataframe\">\n",
       "  <thead>\n",
       "    <tr style=\"text-align: right;\">\n",
       "      <th></th>\n",
       "      <th>school_name</th>\n",
       "      <th>abbrv_name</th>\n",
       "      <th>school_level</th>\n",
       "      <th>type</th>\n",
       "      <th>grade_level</th>\n",
       "      <th>geolocation</th>\n",
       "      <th>address</th>\n",
       "      <th>website</th>\n",
       "    </tr>\n",
       "    <tr>\n",
       "      <th>id</th>\n",
       "      <th></th>\n",
       "      <th></th>\n",
       "      <th></th>\n",
       "      <th></th>\n",
       "      <th></th>\n",
       "      <th></th>\n",
       "      <th></th>\n",
       "      <th></th>\n",
       "    </tr>\n",
       "  </thead>\n",
       "  <tbody>\n",
       "    <tr>\n",
       "      <th>0</th>\n",
       "      <td>John Bartram High School</td>\n",
       "      <td>Bartram</td>\n",
       "      <td>High</td>\n",
       "      <td>Neighborhood</td>\n",
       "      <td>'09-12</td>\n",
       "      <td>39.92149737, -75.23405562</td>\n",
       "      <td>2401 S 67TH ST</td>\n",
       "      <td>http://philasd.org/bartram</td>\n",
       "    </tr>\n",
       "    <tr>\n",
       "      <th>1</th>\n",
       "      <td>West Philadelphia High School</td>\n",
       "      <td>West Philadelphia</td>\n",
       "      <td>High</td>\n",
       "      <td>Neighborhood</td>\n",
       "      <td>'09-12</td>\n",
       "      <td>39.958110, -75.219654</td>\n",
       "      <td>4901 CHESTNUT ST</td>\n",
       "      <td>http://philasd.org/wphs</td>\n",
       "    </tr>\n",
       "    <tr>\n",
       "      <th>2</th>\n",
       "      <td>High School of the Future</td>\n",
       "      <td>HS of Future</td>\n",
       "      <td>High</td>\n",
       "      <td>Citywide</td>\n",
       "      <td>'09-12</td>\n",
       "      <td>39.97465766, -75.2047566</td>\n",
       "      <td>4021 PARKSIDE AVE</td>\n",
       "      <td>http://philasd.org/sof</td>\n",
       "    </tr>\n",
       "    <tr>\n",
       "      <th>3</th>\n",
       "      <td>Paul Robeson High School for Human Services</td>\n",
       "      <td>Robeson</td>\n",
       "      <td>High</td>\n",
       "      <td>Citywide</td>\n",
       "      <td>'09-12</td>\n",
       "      <td>39.95679553, -75.20476311</td>\n",
       "      <td>4125 LUDLOW ST</td>\n",
       "      <td>http://philasd.org/robeson</td>\n",
       "    </tr>\n",
       "    <tr>\n",
       "      <th>4</th>\n",
       "      <td>William L. Sayre High School</td>\n",
       "      <td>Sayre</td>\n",
       "      <td>High</td>\n",
       "      <td>Neighborhood</td>\n",
       "      <td>'09-12</td>\n",
       "      <td>39.95759354, -75.23859405</td>\n",
       "      <td>5800 WALNUT ST</td>\n",
       "      <td>http://philasd.org/sayre</td>\n",
       "    </tr>\n",
       "  </tbody>\n",
       "</table>\n",
       "</div>"
      ],
      "text/plain": [
       "                                    school_name         abbrv_name  \\\n",
       "id                                                                   \n",
       "0                      John Bartram High School            Bartram   \n",
       "1                 West Philadelphia High School  West Philadelphia   \n",
       "2                     High School of the Future       HS of Future   \n",
       "3   Paul Robeson High School for Human Services            Robeson   \n",
       "4                  William L. Sayre High School              Sayre   \n",
       "\n",
       "   school_level          type grade_level                geolocation  \\\n",
       "id                                                                     \n",
       "0          High  Neighborhood      '09-12  39.92149737, -75.23405562   \n",
       "1          High  Neighborhood      '09-12      39.958110, -75.219654   \n",
       "2          High      Citywide      '09-12   39.97465766, -75.2047566   \n",
       "3          High      Citywide      '09-12  39.95679553, -75.20476311   \n",
       "4          High  Neighborhood      '09-12  39.95759354, -75.23859405   \n",
       "\n",
       "              address                     website  \n",
       "id                                                 \n",
       "0      2401 S 67TH ST  http://philasd.org/bartram  \n",
       "1    4901 CHESTNUT ST     http://philasd.org/wphs  \n",
       "2   4021 PARKSIDE AVE      http://philasd.org/sof  \n",
       "3      4125 LUDLOW ST  http://philasd.org/robeson  \n",
       "4      5800 WALNUT ST    http://philasd.org/sayre  "
      ]
     },
     "execution_count": 4,
     "metadata": {},
     "output_type": "execute_result"
    }
   ],
   "source": [
    "schools_data.index.name = 'id'\n",
    "schools_data.head()"
   ]
  },
  {
   "cell_type": "markdown",
   "metadata": {},
   "source": [
    "## Transfering data to SQLite Database"
   ]
  },
  {
   "cell_type": "code",
   "execution_count": 5,
   "metadata": {},
   "outputs": [],
   "source": [
    "class Schools(Base):\n",
    "    __tablename__ = 'schools'\n",
    "    id = Column(Integer, primary_key=True)\n",
    "    school_name = Column(String)\n",
    "    abbrv_name = Column(String)\n",
    "    school_level = Column(String)\n",
    "    type = Column(String)\n",
    "    grade_level = Column(String)\n",
    "    geolocation = Column(String)\n",
    "    address= Column(String)\n",
    "    website = Column(String)"
   ]
  },
  {
   "cell_type": "code",
   "execution_count": 6,
   "metadata": {},
   "outputs": [
    {
     "data": {
      "text/plain": [
       "immutabledict({'schools': Table('schools', MetaData(bind=None), Column('id', Integer(), table=<schools>, primary_key=True, nullable=False), Column('school_name', String(), table=<schools>), Column('abbrv_name', String(), table=<schools>), Column('school_level', String(), table=<schools>), Column('type', String(), table=<schools>), Column('grade_level', String(), table=<schools>), Column('geolocation', String(), table=<schools>), Column('address', String(), table=<schools>), Column('website', String(), table=<schools>), schema=None)})"
      ]
     },
     "execution_count": 6,
     "metadata": {},
     "output_type": "execute_result"
    }
   ],
   "source": [
    "Base.metadata.tables"
   ]
  },
  {
   "cell_type": "code",
   "execution_count": 7,
   "metadata": {
    "scrolled": false
   },
   "outputs": [
    {
     "name": "stdout",
     "output_type": "stream",
     "text": [
      "2021-05-03 21:35:04,409 INFO sqlalchemy.engine.base.Engine SELECT CAST('test plain returns' AS VARCHAR(60)) AS anon_1\n",
      "2021-05-03 21:35:04,410 INFO sqlalchemy.engine.base.Engine ()\n",
      "2021-05-03 21:35:04,412 INFO sqlalchemy.engine.base.Engine SELECT CAST('test unicode returns' AS VARCHAR(60)) AS anon_1\n",
      "2021-05-03 21:35:04,412 INFO sqlalchemy.engine.base.Engine ()\n",
      "2021-05-03 21:35:04,414 INFO sqlalchemy.engine.base.Engine PRAGMA main.table_info(\"schools\")\n",
      "2021-05-03 21:35:04,414 INFO sqlalchemy.engine.base.Engine ()\n",
      "2021-05-03 21:35:04,418 INFO sqlalchemy.engine.base.Engine PRAGMA temp.table_info(\"schools\")\n",
      "2021-05-03 21:35:04,419 INFO sqlalchemy.engine.base.Engine ()\n",
      "2021-05-03 21:35:04,421 INFO sqlalchemy.engine.base.Engine \n",
      "CREATE TABLE schools (\n",
      "\tid INTEGER NOT NULL, \n",
      "\tschool_name VARCHAR, \n",
      "\tabbrv_name VARCHAR, \n",
      "\tschool_level VARCHAR, \n",
      "\ttype VARCHAR, \n",
      "\tgrade_level VARCHAR, \n",
      "\tgeolocation VARCHAR, \n",
      "\taddress VARCHAR, \n",
      "\twebsite VARCHAR, \n",
      "\tPRIMARY KEY (id)\n",
      ")\n",
      "\n",
      "\n",
      "2021-05-03 21:35:04,422 INFO sqlalchemy.engine.base.Engine ()\n",
      "2021-05-03 21:35:04,425 INFO sqlalchemy.engine.base.Engine COMMIT\n"
     ]
    }
   ],
   "source": [
    "engine = create_engine('sqlite:///philly.sqlite', echo=True)\n",
    "Base.metadata.create_all(engine)"
   ]
  },
  {
   "cell_type": "code",
   "execution_count": 8,
   "metadata": {},
   "outputs": [],
   "source": [
    "from sqlalchemy.orm import Session\n",
    "session = Session(bind=engine)"
   ]
  },
  {
   "cell_type": "code",
   "execution_count": 9,
   "metadata": {},
   "outputs": [
    {
     "name": "stdout",
     "output_type": "stream",
     "text": [
      "2021-05-03 21:35:04,439 INFO sqlalchemy.engine.base.Engine BEGIN (implicit)\n",
      "2021-05-03 21:35:04,440 INFO sqlalchemy.engine.base.Engine SELECT * FROM schools;\n",
      "2021-05-03 21:35:04,441 INFO sqlalchemy.engine.base.Engine ()\n"
     ]
    },
    {
     "data": {
      "text/plain": [
       "[]"
      ]
     },
     "execution_count": 9,
     "metadata": {},
     "output_type": "execute_result"
    }
   ],
   "source": [
    "session.execute(\"SELECT * FROM schools;\").fetchall()"
   ]
  },
  {
   "cell_type": "code",
   "execution_count": 10,
   "metadata": {
    "scrolled": true
   },
   "outputs": [
    {
     "name": "stdout",
     "output_type": "stream",
     "text": [
      "2021-05-03 21:35:04,451 INFO sqlalchemy.engine.base.Engine DROP TABLE \"schools\"\n",
      "2021-05-03 21:35:04,452 INFO sqlalchemy.engine.base.Engine ()\n"
     ]
    },
    {
     "data": {
      "text/plain": [
       "<sqlalchemy.engine.result.ResultProxy at 0x7fa96e1ab860>"
      ]
     },
     "execution_count": 10,
     "metadata": {},
     "output_type": "execute_result"
    }
   ],
   "source": [
    "session.execute('DROP TABLE \"schools\"')"
   ]
  },
  {
   "cell_type": "code",
   "execution_count": 11,
   "metadata": {
    "scrolled": false
   },
   "outputs": [
    {
     "name": "stdout",
     "output_type": "stream",
     "text": [
      "2021-05-03 21:35:04,463 INFO sqlalchemy.engine.base.Engine \n",
      "CREATE TABLE schools (\n",
      "\tid INTEGER NOT NULL, \n",
      "\tschool_name VARCHAR, \n",
      "\tabbrv_name VARCHAR, \n",
      "\tschool_level VARCHAR, \n",
      "\ttype VARCHAR, \n",
      "\tgrade_level VARCHAR, \n",
      "\tgeolocation VARCHAR, \n",
      "\taddress VARCHAR, \n",
      "\twebsite VARCHAR, \n",
      "\tPRIMARY KEY (id)\n",
      ")\n",
      "\n",
      "\n",
      "2021-05-03 21:35:04,465 INFO sqlalchemy.engine.base.Engine ()\n",
      "2021-05-03 21:35:04,468 INFO sqlalchemy.engine.base.Engine COMMIT\n"
     ]
    }
   ],
   "source": [
    "Base.metadata.tables[\"schools\"].create(bind=engine)"
   ]
  },
  {
   "cell_type": "code",
   "execution_count": 12,
   "metadata": {
    "scrolled": false
   },
   "outputs": [
    {
     "name": "stdout",
     "output_type": "stream",
     "text": [
      "2021-05-03 21:35:04,478 INFO sqlalchemy.engine.base.Engine PRAGMA main.table_info(\"schools\")\n",
      "2021-05-03 21:35:04,479 INFO sqlalchemy.engine.base.Engine ()\n",
      "2021-05-03 21:35:04,484 INFO sqlalchemy.engine.base.Engine BEGIN (implicit)\n",
      "2021-05-03 21:35:04,489 INFO sqlalchemy.engine.base.Engine INSERT INTO schools (id, school_name, abbrv_name, school_level, type, grade_level, geolocation, address, website) VALUES (?, ?, ?, ?, ?, ?, ?, ?, ?)\n",
      "2021-05-03 21:35:04,490 INFO sqlalchemy.engine.base.Engine ((0, 'John Bartram High School', 'Bartram', 'High', 'Neighborhood', \"'09-12\", '39.92149737, -75.23405562', '2401 S 67TH ST', 'http://philasd.org/bartram'), (1, 'West Philadelphia High School', 'West Philadelphia', 'High', 'Neighborhood', \"'09-12\", '39.958110, -75.219654', '4901 CHESTNUT ST', 'http://philasd.org/wphs'), (2, 'High School of the Future', 'HS of Future', 'High', 'Citywide', \"'09-12\", '39.97465766, -75.2047566', '4021 PARKSIDE AVE', 'http://philasd.org/sof'), (3, 'Paul Robeson High School for Human Services', 'Robeson', 'High', 'Citywide', \"'09-12\", '39.95679553, -75.20476311', '4125 LUDLOW ST', 'http://philasd.org/robeson'), (4, 'William L. Sayre High School', 'Sayre', 'High', 'Neighborhood', \"'09-12\", '39.95759354, -75.23859405', '5800 WALNUT ST', 'http://philasd.org/sayre'), (5, 'William T. Tilden School', 'Tilden', 'Middle', 'Neighborhood', \"'05-08\", '39.92093619, -75.23227632', '6601 ELMWOOD AVE', 'http://philasd.org/tilden'), (6, 'Motivation High School', 'Motivation', 'High', 'Special Admit', \"'09-12\", '39.94453199, -75.24184422', '5900 BALTIMORE AVE', 'http://philasd.org/motivationhs'), (7, 'John Barry School', 'Barry', 'Elementary-Middle', 'Neighborhood', \"'00-08\", '39.96437494, -75.23860376', '5900 RACE ST', 'http://philasd.org/barry')  ... displaying 10 of 328 total bound parameter sets ...  (326, 'MAST III Charter School', 'MAST III', 'Elementary', 'Citywide With Criteria', \"'00-06\", '40.109575, -74.991671', '1 CROWN WAY', 'https://mast3.org/'), (327, 'Philadelphia Hebrew Charter', 'Philadelphia Hebrew', 'Elementary', 'Citywide', \"'00-02\", '40.012045, -75.184376', '3300 HENRY AVE', 'http://philadelphiahebrewpublic.org/'))\n",
      "2021-05-03 21:35:04,498 INFO sqlalchemy.engine.base.Engine COMMIT\n"
     ]
    }
   ],
   "source": [
    "sqlite_table = \"schools\"\n",
    "schools_data.to_sql(sqlite_table, engine, if_exists = \"append\", index =True)"
   ]
  },
  {
   "cell_type": "code",
   "execution_count": 13,
   "metadata": {},
   "outputs": [],
   "source": [
    "#session.execute('alter table schools drop id')"
   ]
  },
  {
   "cell_type": "code",
   "execution_count": 14,
   "metadata": {},
   "outputs": [
    {
     "name": "stdout",
     "output_type": "stream",
     "text": [
      "2021-05-03 21:35:04,510 INFO sqlalchemy.engine.base.Engine SELECT name FROM sqlite_master WHERE type='table' ORDER BY name\n",
      "2021-05-03 21:35:04,511 INFO sqlalchemy.engine.base.Engine ()\n"
     ]
    },
    {
     "data": {
      "text/plain": [
       "['census_household',\n",
       " 'censustracts',\n",
       " 'household',\n",
       " 'philly_schools',\n",
       " 'query_url',\n",
       " 'schools']"
      ]
     },
     "execution_count": 14,
     "metadata": {},
     "output_type": "execute_result"
    }
   ],
   "source": [
    "engine.table_names()\n",
    "#session.execute('alter table schools add primary key(id)')"
   ]
  },
  {
   "cell_type": "code",
   "execution_count": 15,
   "metadata": {},
   "outputs": [
    {
     "name": "stdout",
     "output_type": "stream",
     "text": [
      "2021-05-03 21:35:04,519 INFO sqlalchemy.engine.base.Engine ROLLBACK\n"
     ]
    }
   ],
   "source": [
    "session.close()"
   ]
  }
 ],
 "metadata": {
  "kernelspec": {
   "display_name": "Python [conda env:PythonData] *",
   "language": "python",
   "name": "conda-env-PythonData-py"
  },
  "language_info": {
   "codemirror_mode": {
    "name": "ipython",
    "version": 3
   },
   "file_extension": ".py",
   "mimetype": "text/x-python",
   "name": "python",
   "nbconvert_exporter": "python",
   "pygments_lexer": "ipython3",
   "version": "3.6.10"
  }
 },
 "nbformat": 4,
 "nbformat_minor": 4
}
